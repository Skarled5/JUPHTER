{
 "cells": [
  {
   "cell_type": "code",
   "execution_count": 1,
   "id": "9eb653cf",
   "metadata": {},
   "outputs": [
    {
     "name": "stdout",
     "output_type": "stream",
     "text": [
      "rha\n"
     ]
    }
   ],
   "source": [
    "str='merhaba dünya!'\n",
    "print(str[2:5])"
   ]
  },
  {
   "cell_type": "code",
   "execution_count": 11,
   "id": "a04c54d0",
   "metadata": {},
   "outputs": [
    {
     "name": "stdout",
     "output_type": "stream",
     "text": [
      "a:ali babanını bir cifliği\n",
      "b:i\n",
      "5\n"
     ]
    }
   ],
   "source": [
    "a=input('a:')\n",
    "b=input('b:')\n",
    "def C(a,b):\n",
    "    c=0\n",
    "    for i in range(len(a)):\n",
    "        if b==a[i:i+len(b)]:\n",
    "            c+=1\n",
    "    return c\n",
    "print(C(a,b))"
   ]
  },
  {
   "cell_type": "code",
   "execution_count": 1,
   "id": "77c22ee8",
   "metadata": {},
   "outputs": [],
   "source": [
    "def ebob(A,B,r):\n",
    "    c=0\n",
    "    if A==1 and B==1:\n",
    "        return 1\n",
    "    else: \n",
    "        if A%r==0:\n",
    "            c+=1\n",
    "            A=A/r\n",
    "        if B%r==0:\n",
    "            c+=1\n",
    "            B=B/r\n",
    "        if c==1:\n",
    "            return ebob(A,B,r)\n",
    "        else:\n",
    "            return ebob(A,B,r)\n",
    "        \n",
    "\n",
    "\n",
    "\n",
    "        "
   ]
  },
  {
   "cell_type": "code",
   "execution_count": null,
   "id": "8b93c21a",
   "metadata": {},
   "outputs": [],
   "source": []
  }
 ],
 "metadata": {
  "kernelspec": {
   "display_name": "Python 3 (ipykernel)",
   "language": "python",
   "name": "python3"
  },
  "language_info": {
   "codemirror_mode": {
    "name": "ipython",
    "version": 3
   },
   "file_extension": ".py",
   "mimetype": "text/x-python",
   "name": "python",
   "nbconvert_exporter": "python",
   "pygments_lexer": "ipython3",
   "version": "3.9.12"
  }
 },
 "nbformat": 4,
 "nbformat_minor": 5
}

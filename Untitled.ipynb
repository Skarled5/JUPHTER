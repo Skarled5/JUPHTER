{
 "cells": [
  {
   "cell_type": "code",
   "execution_count": 3,
   "id": "283edca0",
   "metadata": {},
   "outputs": [
    {
     "name": "stdout",
     "output_type": "stream",
     "text": [
      "x:120\n",
      "güclü degil\n"
     ]
    }
   ],
   "source": [
    "def fak(sonbasamak):\n",
    "    f=1\n",
    "    for i in range(1,sonbasamak+1):\n",
    "        f*=i\n",
    "    return f\n",
    "x=int(input('x:'))\n",
    "top=0\n",
    "yedek=x\n",
    "while x>0:\n",
    "    sonbasamak=x%10\n",
    "    top+=fak(sonbasamak)\n",
    "    x=x//10\n",
    "if yedek==top:\n",
    "    print('güclü sayı')\n",
    "else:\n",
    "    print('güclü degil')\n",
    "    "
   ]
  },
  {
   "cell_type": "code",
   "execution_count": 4,
   "id": "9c363989",
   "metadata": {},
   "outputs": [],
   "source": [
    "def eks(x,y):\n",
    "    x=int(input('x:'))\n",
    "    y=int(input('y:'))\n",
    "    return x an y\n",
    "    if x<y:\n",
    "        x=mini\n",
    "    else:\n",
    "        y=mini\n",
    "    ebob=1\n",
    "    for i in range(1,mini+1):\n",
    "        if x%i==0 and y%i==0:\n",
    "            ebob=i\n",
    "        return ebob\n",
    "    print(ebob)\n"
   ]
  },
  {
   "cell_type": "code",
   "execution_count": 9,
   "id": "9bd9d85a",
   "metadata": {},
   "outputs": [
    {
     "name": "stdout",
     "output_type": "stream",
     "text": [
      "sayı1:2\n",
      "sayı2:3\n",
      "yapılacak islem secin:1/2/3/4=1\n",
      "5\n"
     ]
    }
   ],
   "source": [
    "def toplam(a,b):\n",
    "    return a+b\n",
    "def eksi(a,b):\n",
    "     return a-b\n",
    "def carpma(a,b):\n",
    "     return a*b\n",
    "def bölme(a,b):\n",
    "    return a/b\n",
    "a=int(input('sayı1:'))\n",
    "b=int(input('sayı2:'))\n",
    "islem=input('yapılacak islem secin:1/2/3/4=')\n",
    "if islem=='1':\n",
    "    print(toplam(a,b))\n",
    "elif islem=='2':\n",
    "    print(eksi(a,b))\n",
    "elif islem=='3':\n",
    "    print(carpma(a,b))\n",
    "elif islem=='4':\n",
    "    print(bölme(a,b))\n",
    "else:\n",
    "    print('BÖYLE BİR İŞLEM BULUNMAMAKTADIR')\n",
    "\n",
    "    \n",
    "    "
   ]
  },
  {
   "cell_type": "code",
   "execution_count": 7,
   "id": "ecbbcef9",
   "metadata": {},
   "outputs": [
    {
     "name": "stdout",
     "output_type": "stream",
     "text": [
      "1 2 3 4 5 6 7 8 9 \n",
      "2 4 6 8 10 12 14 16 18 \n",
      "3 6 9 12 15 18 21 24 27 \n",
      "4 8 12 16 20 24 28 32 36 \n",
      "5 10 15 20 25 30 35 40 45 \n",
      "6 12 18 24 30 36 42 48 54 \n",
      "7 14 21 28 35 42 49 56 63 \n",
      "8 16 24 32 40 48 56 64 72 \n",
      "9 18 27 36 45 54 63 72 81 \n"
     ]
    }
   ],
   "source": [
    "for i in range(1,10):\n",
    "    for j in range(1,10):\n",
    "        print(i*j,end=' ')\n",
    "    print('')\n",
    "    "
   ]
  },
  {
   "cell_type": "code",
   "execution_count": 15,
   "id": "7f673af1",
   "metadata": {},
   "outputs": [
    {
     "name": "stdout",
     "output_type": "stream",
     "text": [
      "N:4\n"
     ]
    },
    {
     "ename": "AttributeError",
     "evalue": "'list' object has no attribute 'random'",
     "output_type": "error",
     "traceback": [
      "\u001b[1;31m---------------------------------------------------------------------------\u001b[0m",
      "\u001b[1;31mAttributeError\u001b[0m                            Traceback (most recent call last)",
      "Input \u001b[1;32mIn [15]\u001b[0m, in \u001b[0;36m<cell line: 3>\u001b[1;34m()\u001b[0m\n\u001b[0;32m      4\u001b[0m satır\u001b[38;5;241m=\u001b[39m[]\n\u001b[0;32m      5\u001b[0m \u001b[38;5;28;01mfor\u001b[39;00m j \u001b[38;5;129;01min\u001b[39;00m \u001b[38;5;28mrange\u001b[39m(N):\n\u001b[1;32m----> 6\u001b[0m     satır\u001b[38;5;241m.\u001b[39mappend(\u001b[38;5;28mint\u001b[39m(\u001b[43msatır\u001b[49m\u001b[38;5;241;43m.\u001b[39;49m\u001b[43mrandom\u001b[49m()\u001b[38;5;241m*\u001b[39m\u001b[38;5;241m100\u001b[39m))\n\u001b[0;32m      7\u001b[0m Matris\u001b[38;5;241m.\u001b[39mappend(satır)\n",
      "\u001b[1;31mAttributeError\u001b[0m: 'list' object has no attribute 'random'"
     ]
    }
   ],
   "source": [
    "N=int(input('N:'))\n",
    "Matris=[]\n",
    "for i in range(N):\n",
    "    satır=[]\n",
    "    for j in range(N):\n",
    "        satır.append(int(satır.random()*100))\n",
    "    Matris.append(satır)"
   ]
  },
  {
   "cell_type": "code",
   "execution_count": 5,
   "id": "66fb9efa",
   "metadata": {},
   "outputs": [
    {
     "name": "stdout",
     "output_type": "stream",
     "text": [
      "DC:20\n",
      "KTK:8\n",
      "16.0\n"
     ]
    }
   ],
   "source": [
    "DC=int(input('DC:'))\n",
    "x=int(input('KTK:'))\n",
    "y=(DC-2*x)/2\n",
    "DA=x*y\n",
    "print(DA)\n",
    "\n"
   ]
  },
  {
   "cell_type": "code",
   "execution_count": null,
   "id": "0e6de63b",
   "metadata": {},
   "outputs": [
    {
     "name": "stdout",
     "output_type": "stream",
     "text": [
      "a:6\n"
     ]
    }
   ],
   "source": [
    "a=int(input('a:'))\n",
    "b=int(input('b:'))\n",
    "c=int(input('c:'))\n",
    "x=0\n",
    "if x<(b+c-a)/3:\n",
    "    print(x)\n",
    "else:\n",
    "    x+=1\n",
    "    "
   ]
  },
  {
   "cell_type": "code",
   "execution_count": 1,
   "id": "a49dd358",
   "metadata": {},
   "outputs": [
    {
     "ename": "NameError",
     "evalue": "name 'random' is not defined",
     "output_type": "error",
     "traceback": [
      "\u001b[1;31m---------------------------------------------------------------------------\u001b[0m",
      "\u001b[1;31mNameError\u001b[0m                                 Traceback (most recent call last)",
      "Input \u001b[1;32mIn [1]\u001b[0m, in \u001b[0;36m<cell line: 4>\u001b[1;34m()\u001b[0m\n\u001b[0;32m      3\u001b[0m dd\u001b[38;5;241m=\u001b[39m\u001b[38;5;241m0\u001b[39m\n\u001b[0;32m      4\u001b[0m \u001b[38;5;28;01mwhile\u001b[39;00m dd\u001b[38;5;241m<\u001b[39m\u001b[38;5;241m10\u001b[39m:\n\u001b[1;32m----> 5\u001b[0m     yuk\u001b[38;5;241m=\u001b[39m\u001b[38;5;28mint\u001b[39m(\u001b[43mrandom\u001b[49m\u001b[38;5;241m.\u001b[39mrandom()\u001b[38;5;241m*\u001b[39m\u001b[38;5;241m50\u001b[39m)\n\u001b[0;32m      6\u001b[0m     \u001b[38;5;28;01mif\u001b[39;00m sol\u001b[38;5;241m<\u001b[39msag:\n\u001b[0;32m      7\u001b[0m         \u001b[38;5;28;01mif\u001b[39;00m sol\u001b[38;5;241m+\u001b[39myuk\u001b[38;5;241m>\u001b[39msag:\n",
      "\u001b[1;31mNameError\u001b[0m: name 'random' is not defined"
     ]
    }
   ],
   "source": [
    "sol=0\n",
    "sag=0\n",
    "dd=0\n",
    "while dd<10:\n",
    "    yuk=int(random.random()*50)\n",
    "    if sol<sag:\n",
    "        if sol+yuk>sag:\n",
    "            dd+=1\n",
    "            print(dd)\n",
    "        else:\n",
    "            print(b)\n",
    "    else:\n",
    "        if sol<sag+yuk:\n",
    "            dd+=1\n",
    "            print(dd)\n",
    "        else:\n",
    "            print(a)\n",
    "        \n"
   ]
  },
  {
   "cell_type": "code",
   "execution_count": null,
   "id": "cfca9fd5",
   "metadata": {},
   "outputs": [],
   "source": [
    "adet=int(input('adet:'))\n",
    "paket=0\n",
    "saniye=0\n",
    "k=12\n",
    "l=15\n",
    "while saniye%k==0 and saniye%l==0 :\n",
    "    paket+=1\n",
    "    saniye+=1\n",
    "    print(pakdt)\n",
    "    \n",
    "\n"
   ]
  },
  {
   "cell_type": "markdown",
   "id": "094f6813",
   "metadata": {},
   "source": []
  }
 ],
 "metadata": {
  "kernelspec": {
   "display_name": "Python 3 (ipykernel)",
   "language": "python",
   "name": "python3"
  },
  "language_info": {
   "codemirror_mode": {
    "name": "ipython",
    "version": 3
   },
   "file_extension": ".py",
   "mimetype": "text/x-python",
   "name": "python",
   "nbconvert_exporter": "python",
   "pygments_lexer": "ipython3",
   "version": "3.9.12"
  }
 },
 "nbformat": 4,
 "nbformat_minor": 5
}

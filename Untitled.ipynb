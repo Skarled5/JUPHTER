{
 "cells": [
  {
   "cell_type": "code",
   "execution_count": 4,
   "id": "a50e3321",
   "metadata": {},
   "outputs": [
    {
     "name": "stdout",
     "output_type": "stream",
     "text": [
      "[0, 1, 2]\n",
      "[3, 4, 2]\n",
      "[2, 1, 3]\n",
      "[2, 6, 3]\n",
      "[4, 9, 2]\n",
      "[3, 4, 5]\n",
      "\n",
      "\n",
      "[2, 7, 5]\n",
      "[7, 13, 4]\n",
      "[5, 5, 8]\n"
     ]
    }
   ],
   "source": [
    "a=[[0,1,2],[3,4,2],[2,1,3]]\n",
    "for i in range(3):\n",
    "    print(a[i])\n",
    "b=[[2,6,3],[4,9,2],[3,4,5]]\n",
    "for i in range(3):\n",
    "    print(b[i])\n",
    "print()\n",
    "c=[[0,0,0],[0,0,0],[0,0,0]]\n",
    "for i in range(3):\n",
    "    for j in range(3):\n",
    "        c[i][j]=a[i][j]+b[i][j]\n",
    "print()\n",
    "for i in range(3):\n",
    "    print(c[i])\n",
    "        \n"
   ]
  },
  {
   "cell_type": "code",
   "execution_count": 3,
   "id": "abc1b4b3",
   "metadata": {},
   "outputs": [
    {
     "name": "stdout",
     "output_type": "stream",
     "text": [
      "[[1, 3, 2, 7], [5, 2, 8]]\n"
     ]
    }
   ],
   "source": [
    "a=[[1,3,2],[5,2,8]]\n",
    "a[0].append(7)\n",
    "print(a)"
   ]
  },
  {
   "cell_type": "code",
   "execution_count": 6,
   "id": "664fba65",
   "metadata": {},
   "outputs": [
    {
     "name": "stdout",
     "output_type": "stream",
     "text": [
      "0\n",
      "0\n",
      "-1\n",
      "-1\n",
      "0\n",
      "1\n",
      "0\n",
      "2\n"
     ]
    }
   ],
   "source": [
    "liste=[[0,1],\n",
    "      [0,1],\n",
    "      [-1,-1],\n",
    "      [0,2]\n",
    "      ]\n",
    "a=0\n",
    "for i in range(2):\n",
    "    for j in range(4):\n",
    "        a+=liste[j][i]\n",
    "        print(a)"
   ]
  },
  {
   "cell_type": "code",
   "execution_count": 14,
   "id": "26fc1ca9",
   "metadata": {},
   "outputs": [
    {
     "name": "stdout",
     "output_type": "stream",
     "text": [
      "[[0, 1], [0, 1], [-1, -1], [0, 2]]\n",
      "[[0, 0], [0, 1], [-1, -1], [0, 2]]\n"
     ]
    },
    {
     "ename": "IndexError",
     "evalue": "list assignment index out of range",
     "output_type": "error",
     "traceback": [
      "\u001b[1;31m---------------------------------------------------------------------------\u001b[0m",
      "\u001b[1;31mIndexError\u001b[0m                                Traceback (most recent call last)",
      "Input \u001b[1;32mIn [14]\u001b[0m, in \u001b[0;36m<cell line: 7>\u001b[1;34m()\u001b[0m\n\u001b[0;32m      7\u001b[0m \u001b[38;5;28;01mfor\u001b[39;00m i \u001b[38;5;129;01min\u001b[39;00m \u001b[38;5;28mrange\u001b[39m(\u001b[38;5;241m2\u001b[39m):\n\u001b[0;32m      8\u001b[0m     \u001b[38;5;28;01mfor\u001b[39;00m j \u001b[38;5;129;01min\u001b[39;00m \u001b[38;5;28mrange\u001b[39m(\u001b[38;5;241m4\u001b[39m):\n\u001b[1;32m----> 9\u001b[0m         liste[i][j]\u001b[38;5;241m=\u001b[39mb[j][i]\n\u001b[0;32m     10\u001b[0m         \u001b[38;5;28mprint\u001b[39m(liste)\n",
      "\u001b[1;31mIndexError\u001b[0m: list assignment index out of range"
     ]
    }
   ],
   "source": [
    "liste=[[0,1],\n",
    "      [0,1],\n",
    "      [-1,-1],\n",
    "      [0,2]\n",
    "      ]\n",
    "b=liste\n",
    "for i in range(2):\n",
    "    for j in range(4):\n",
    "        liste[i][j]=b[j][i]\n",
    "        print(liste)\n"
   ]
  },
  {
   "cell_type": "code",
   "execution_count": 13,
   "id": "7615594d",
   "metadata": {},
   "outputs": [
    {
     "name": "stdout",
     "output_type": "stream",
     "text": [
      "*\n",
      "**\n",
      "***\n",
      "****\n",
      "*****\n",
      "******\n",
      "*******\n",
      "********\n",
      "*********\n",
      "**********\n"
     ]
    }
   ],
   "source": [
    "for satır in range(1,11):\n",
    "    for sütün in range(1,satır+1):\n",
    "        print('*',end='')\n",
    "    print('')\n",
    "    \n"
   ]
  },
  {
   "cell_type": "code",
   "execution_count": 14,
   "id": "4162be4b",
   "metadata": {},
   "outputs": [
    {
     "name": "stdout",
     "output_type": "stream",
     "text": [
      "1\n",
      "12\n",
      "123\n",
      "1234\n",
      "12345\n",
      "123456\n",
      "1234567\n",
      "12345678\n",
      "123456789\n",
      "12345678910\n"
     ]
    }
   ],
   "source": [
    "for satır in range(1,11):\n",
    "    for sütün in range(1,satır+1):\n",
    "        print(sütün,end='')\n",
    "    print('')"
   ]
  },
  {
   "cell_type": "code",
   "execution_count": 15,
   "id": "1ca02f17",
   "metadata": {},
   "outputs": [
    {
     "name": "stdout",
     "output_type": "stream",
     "text": [
      "1\n",
      "22\n",
      "333\n",
      "4444\n",
      "55555\n",
      "666666\n",
      "7777777\n",
      "88888888\n",
      "999999999\n",
      "10101010101010101010\n"
     ]
    }
   ],
   "source": [
    "for satır in range(1,11):\n",
    "    for sütün in range(1,satır+1):\n",
    "        print(satır,end='')\n",
    "    print('')"
   ]
  },
  {
   "cell_type": "code",
   "execution_count": 16,
   "id": "754c371a",
   "metadata": {},
   "outputs": [
    {
     "name": "stdout",
     "output_type": "stream",
     "text": [
      "1\n",
      "23\n",
      "456\n",
      "78910\n",
      "1112131415\n",
      "161718192021\n",
      "22232425262728\n",
      "2930313233343536\n",
      "373839404142434445\n",
      "46474849505152535455\n"
     ]
    }
   ],
   "source": [
    "a=1\n",
    "for satır in range(1,11):\n",
    "    for sütün in range(1,satır+1):\n",
    "        print(a,end='')\n",
    "        a+=1\n",
    "    print('')\n",
    "        "
   ]
  },
  {
   "cell_type": "code",
   "execution_count": 10,
   "id": "7ffdb308",
   "metadata": {},
   "outputs": [
    {
     "name": "stdout",
     "output_type": "stream",
     "text": [
      "ağacın uzunluğunu giriniz:10\n",
      "********\n",
      "*******\n",
      "******\n",
      "*****\n",
      "****\n",
      "***\n",
      "**\n",
      "*\n",
      "\n",
      "*\n",
      "**\n",
      "***\n",
      "****\n",
      "*****\n",
      "******\n",
      "*******\n",
      "********\n",
      "*********\n"
     ]
    }
   ],
   "source": [
    "a=int(input('ağacın uzunluğunu giriniz:'))\n",
    "for satır in range(1,a):\n",
    "    for sütün in range(1,a-satır):\n",
    "        print('*',end='')\n",
    "    print('')\n",
    "for satır in range(1,a):\n",
    "    for sütün in range(satır):\n",
    "        print('*',end='')\n",
    "    print('')\n"
   ]
  },
  {
   "cell_type": "code",
   "execution_count": null,
   "id": "3986d65b",
   "metadata": {},
   "outputs": [],
   "source": [
    "\n"
   ]
  },
  {
   "cell_type": "code",
   "execution_count": 2,
   "id": "b58797d5",
   "metadata": {
    "scrolled": true
   },
   "outputs": [
    {
     "name": "stdout",
     "output_type": "stream",
     "text": [
      "sayı giriniz:5\n",
      "*          *\n",
      "**        **\n",
      "***      ***\n",
      "****    ****\n",
      "*****  *****\n",
      "************\n",
      "*****  *****\n",
      "****    ****\n",
      "***      ***\n",
      "**        **\n",
      "*          *\n"
     ]
    }
   ],
   "source": [
    "sayi=int(input('sayı giriniz:'))\n",
    "for satır in range(sayi):\n",
    "    for sütün in range(satır+1):\n",
    "        print('*',end='')\n",
    "    for sütün in range((sayi-satır)*2):\n",
    "        print(' ',end='')\n",
    "    for sütün in range(satır+1):\n",
    "        print('*',end='')\n",
    "    print('')\n",
    "for satır in range(sayi,-1,-1):\n",
    "    for sütün in range(satır+1):\n",
    "        print('*',end='')\n",
    "    for sütün in range((sayi-satır)*2):\n",
    "        print(' ',end='')\n",
    "    for sütün in range(satır+1):\n",
    "        print('*',end='')\n",
    "    print('')\n",
    "        "
   ]
  },
  {
   "cell_type": "code",
   "execution_count": 10,
   "id": "d24a7883",
   "metadata": {},
   "outputs": [
    {
     "name": "stdout",
     "output_type": "stream",
     "text": [
      "24\n"
     ]
    }
   ],
   "source": [
    "def fak(p):\n",
    "    f=1\n",
    "    for k in range(2,p+1):\n",
    "        f*=k\n",
    "    return f\n",
    "print(fak(4))\n"
   ]
  },
  {
   "cell_type": "code",
   "execution_count": 13,
   "id": "e8cf9bf3",
   "metadata": {},
   "outputs": [
    {
     "name": "stdout",
     "output_type": "stream",
     "text": [
      "0\n"
     ]
    }
   ],
   "source": [
    "def SayıAsalmı(p):\n",
    "    k=1\n",
    "    for i in range(2,p):\n",
    "        if p%i==0:\n",
    "            k=0\n",
    "            break\n",
    "    return k\n",
    "print(SayıAsalmı(8))"
   ]
  },
  {
   "cell_type": "code",
   "execution_count": 20,
   "id": "e4ad0f33",
   "metadata": {},
   "outputs": [
    {
     "name": "stdout",
     "output_type": "stream",
     "text": [
      "sayı gir:4\n",
      "sayı:5\n",
      "42.86666666666666\n"
     ]
    }
   ],
   "source": [
    "x=int(input('sayı gir:'))\n",
    "c=int(input('sayı:'))\n",
    "top=1\n",
    "for j in range(1,c+1):\n",
    "    top+=x**j/fak(j)\n",
    "print(top)\n",
    "    "
   ]
  },
  {
   "cell_type": "code",
   "execution_count": 3,
   "id": "e00bee77",
   "metadata": {},
   "outputs": [
    {
     "name": "stdout",
     "output_type": "stream",
     "text": [
      "k:4\n",
      "[1, 2, 3, 4, 5, 6, 7, 8, 9, 10]\n"
     ]
    },
    {
     "ename": "NameError",
     "evalue": "name 'lis' is not defined",
     "output_type": "error",
     "traceback": [
      "\u001b[1;31m---------------------------------------------------------------------------\u001b[0m",
      "\u001b[1;31mNameError\u001b[0m                                 Traceback (most recent call last)",
      "Input \u001b[1;32mIn [3]\u001b[0m, in \u001b[0;36m<cell line: 10>\u001b[1;34m()\u001b[0m\n\u001b[0;32m     10\u001b[0m \u001b[38;5;28;01mfor\u001b[39;00m i \u001b[38;5;129;01min\u001b[39;00m \u001b[38;5;28mrange\u001b[39m(k\u001b[38;5;241m+\u001b[39m\u001b[38;5;241m1\u001b[39m):\n\u001b[0;32m     11\u001b[0m     \u001b[38;5;28mprint\u001b[39m(liste)\n\u001b[1;32m---> 12\u001b[0m     liste\u001b[38;5;241m=\u001b[39mdonder(\u001b[43mlis\u001b[49m)\n",
      "\u001b[1;31mNameError\u001b[0m: name 'lis' is not defined"
     ]
    }
   ],
   "source": [
    "\n",
    "def donder(lis):\n",
    "    temp=lis[len(lis)-1]\n",
    "    for i in range(len(lis)-1,0,-1):\n",
    "        lis[i]=lis[i-1]\n",
    "    lis[0]=temp\n",
    "    return lis\n",
    "\n",
    "liste=[1,2,3,4,5,6,7,8,9,10]\n",
    "k=int(input('k:'))\n",
    "for i in range(k+1):\n",
    "    print(liste)\n",
    "    liste=donder(lis)"
   ]
  },
  {
   "cell_type": "markdown",
   "id": "0edffc26",
   "metadata": {},
   "source": [
    " "
   ]
  }
 ],
 "metadata": {
  "kernelspec": {
   "display_name": "Python 3 (ipykernel)",
   "language": "python",
   "name": "python3"
  },
  "language_info": {
   "codemirror_mode": {
    "name": "ipython",
    "version": 3
   },
   "file_extension": ".py",
   "mimetype": "text/x-python",
   "name": "python",
   "nbconvert_exporter": "python",
   "pygments_lexer": "ipython3",
   "version": "3.9.12"
  }
 },
 "nbformat": 4,
 "nbformat_minor": 5
}

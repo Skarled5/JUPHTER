{
 "cells": [
  {
   "cell_type": "code",
   "execution_count": 11,
   "id": "f6d07b35",
   "metadata": {},
   "outputs": [
    {
     "name": "stdout",
     "output_type": "stream",
     "text": [
      "[10, 12, 15]\n"
     ]
    }
   ],
   "source": [
    "A = [[1, 0, 1, 0], [1, 1, 0, 0], [1, 1, 1, 1]]\n",
    "onluk = []\n",
    "\n",
    "for binary in A:\n",
    "    decimal = 0\n",
    "    for digit in binary:\n",
    "        decimal = (decimal * 2) + digit\n",
    "    onluk.append(decimal)\n",
    "\n",
    "print(onluk)"
   ]
  },
  {
   "cell_type": "code",
   "execution_count": 3,
   "id": "b743c9b2",
   "metadata": {},
   "outputs": [
    {
     "name": "stdout",
     "output_type": "stream",
     "text": [
      "begenilme:300\n",
      "sevilmeme:100\n",
      "video begenilme oranı: 75.0\n",
      "bu video begenildi\n"
     ]
    }
   ],
   "source": [
    "def ratingHesaplayıcı():\n",
    "    \n",
    "    global rating\n",
    "    \n",
    "    rating=(like/(like+dislike))*100\n",
    "\n",
    "def ratingGosterici():\n",
    "    print(\"video begenilme oranı:\", rating)\n",
    "    \n",
    "    if rating>50:\n",
    "        print(\"bu video begenildi\")\n",
    "    else:\n",
    "        print(\"video begenilmedi\")\n",
    "\n",
    "def ratingGiris():\n",
    "    \n",
    "    global like\n",
    "    global dislike\n",
    "    \n",
    "    like = int(input(\"begenilme:\"))\n",
    "    dislike = int(input(\"sevilmeme:\"))\n",
    "    \n",
    "ratingGiris()\n",
    "ratingHesaplayıcı()\n",
    "ratingGosterici()\n",
    "\n",
    "# fonksiyonlarda global diğer fonksiyonlarla tanımlı olur içindeki değişken\n",
    "    \n"
   ]
  },
  {
   "cell_type": "markdown",
   "id": "8018094b",
   "metadata": {},
   "source": [
    "Uzayda Kaç Kişi Var"
   ]
  },
  {
   "cell_type": "code",
   "execution_count": null,
   "id": "3538652c",
   "metadata": {},
   "outputs": [],
   "source": []
  },
  {
   "cell_type": "code",
   "execution_count": null,
   "id": "798f70c6",
   "metadata": {},
   "outputs": [],
   "source": []
  }
 ],
 "metadata": {
  "kernelspec": {
   "display_name": "Python 3 (ipykernel)",
   "language": "python",
   "name": "python3"
  },
  "language_info": {
   "codemirror_mode": {
    "name": "ipython",
    "version": 3
   },
   "file_extension": ".py",
   "mimetype": "text/x-python",
   "name": "python",
   "nbconvert_exporter": "python",
   "pygments_lexer": "ipython3",
   "version": "3.9.12"
  }
 },
 "nbformat": 4,
 "nbformat_minor": 5
}

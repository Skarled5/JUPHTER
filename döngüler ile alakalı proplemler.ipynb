{
 "cells": [
  {
   "cell_type": "code",
   "execution_count": 6,
   "id": "0683da39",
   "metadata": {},
   "outputs": [
    {
     "ename": "SyntaxError",
     "evalue": "invalid syntax (2265453640.py, line 1)",
     "output_type": "error",
     "traceback": [
      "\u001b[1;36m  Input \u001b[1;32mIn [6]\u001b[1;36m\u001b[0m\n\u001b[1;33m    for n in range(3,10,2)\u001b[0m\n\u001b[1;37m                          ^\u001b[0m\n\u001b[1;31mSyntaxError\u001b[0m\u001b[1;31m:\u001b[0m invalid syntax\n"
     ]
    }
   ],
   "source": [
    "for n in range(3,10,2)\n",
    "    print(n,end=\" \")"
   ]
  },
  {
   "cell_type": "code",
   "execution_count": 7,
   "id": "f0018f41",
   "metadata": {},
   "outputs": [
    {
     "name": "stdout",
     "output_type": "stream",
     "text": [
      "0\n",
      "1\n",
      "2\n",
      "3\n",
      "4\n",
      "5\n",
      "6\n",
      "7\n",
      "8\n",
      "9\n"
     ]
    }
   ],
   "source": [
    "sayac=0\n",
    "while(sayac<10):\n",
    "    print(sayac)\n",
    "    sayac+=1"
   ]
  },
  {
   "cell_type": "code",
   "execution_count": 2,
   "id": "30371541",
   "metadata": {},
   "outputs": [
    {
     "name": "stdout",
     "output_type": "stream",
     "text": [
      "Güncel harf P\n",
      "Güncel harf y\n",
      "Güncel harf t\n"
     ]
    }
   ],
   "source": [
    "for harf in \"Python\":\n",
    "    if harf == \"h\":\n",
    "        break\n",
    "    print(\"Güncel harf\",harf)"
   ]
  },
  {
   "cell_type": "code",
   "execution_count": 3,
   "id": "165894d1",
   "metadata": {},
   "outputs": [
    {
     "name": "stdout",
     "output_type": "stream",
     "text": [
      "Güncel harf P\n",
      "Güncel harf y\n",
      "Güncel harf t\n",
      "Güncel harf o\n",
      "Güncel harf n\n"
     ]
    }
   ],
   "source": [
    "for harf in \"Python\":\n",
    "    if harf == \"h\":\n",
    "        continue\n",
    "    print(\"Güncel harf\",harf)"
   ]
  },
  {
   "cell_type": "code",
   "execution_count": 5,
   "id": "bdc9f8b3",
   "metadata": {},
   "outputs": [
    {
     "name": "stdout",
     "output_type": "stream",
     "text": [
      "bir sayı girin:4\n",
      "bir sayı girin:3\n",
      "bir sayı girin:2\n",
      "bir sayı girin:1\n",
      "bir sayı girin:7\n",
      "3.4\n"
     ]
    }
   ],
   "source": [
    "toplam=0\n",
    "ortalama=0\n",
    "sayı=int()\n",
    "for n in range(5):\n",
    "    sayı=int(input('bir sayı girin:'))\n",
    "    toplam+=sayı\n",
    "ortalama=toplam/5\n",
    "print(ortalama)"
   ]
  },
  {
   "cell_type": "code",
   "execution_count": 1,
   "id": "ddeb138b",
   "metadata": {},
   "outputs": [
    {
     "name": "stdout",
     "output_type": "stream",
     "text": [
      "bir sayı girin: 3\n",
      "bir sayı girin: 2\n",
      "bir sayı girin: 3\n",
      "bir sayı girin: 5\n",
      "bir sayı girin: 756\n",
      "153.8\n"
     ]
    }
   ],
   "source": [
    "Toplam=0\n",
    "Sayac=0\n",
    "while Sayac<5:\n",
    "    Sayı=int(input('bir sayı girin: '))\n",
    "    Sayac+=1\n",
    "    Toplam+=Sayı\n",
    "print(Toplam/5)"
   ]
  },
  {
   "cell_type": "markdown",
   "id": "10d191dd",
   "metadata": {},
   "source": []
  },
  {
   "cell_type": "code",
   "execution_count": 10,
   "id": "8555fe22",
   "metadata": {},
   "outputs": [
    {
     "name": "stdout",
     "output_type": "stream",
     "text": [
      "bir sayı giriniz: 3\n",
      "mak\n"
     ]
    }
   ],
   "source": [
    "sayı=int(input('bir sayı giriniz: '))\n",
    "mak=0\n",
    "for i in range(5):\n",
    "\n",
    "    if sayı>mak:\n",
    "        mak=sayı\n",
    "        print('mak')"
   ]
  },
  {
   "cell_type": "code",
   "execution_count": null,
   "id": "89d9164a",
   "metadata": {},
   "outputs": [],
   "source": []
  },
  {
   "cell_type": "code",
   "execution_count": null,
   "id": "5796c28d",
   "metadata": {},
   "outputs": [],
   "source": [
    "print('ben ögrenciyim')\n"
   ]
  },
  {
   "cell_type": "code",
   "execution_count": 2,
   "id": "3b342a3c",
   "metadata": {},
   "outputs": [
    {
     "ename": "SyntaxError",
     "evalue": "invalid syntax (3798900512.py, line 2)",
     "output_type": "error",
     "traceback": [
      "\u001b[1;36m  Input \u001b[1;32mIn [2]\u001b[1;36m\u001b[0m\n\u001b[1;33m    for i in sayac\u001b[0m\n\u001b[1;37m                  ^\u001b[0m\n\u001b[1;31mSyntaxError\u001b[0m\u001b[1;31m:\u001b[0m invalid syntax\n"
     ]
    }
   ],
   "source": [
    "for \n"
   ]
  },
  {
   "cell_type": "code",
   "execution_count": 10,
   "id": "c5053165",
   "metadata": {},
   "outputs": [
    {
     "ename": "IndentationError",
     "evalue": "unexpected indent (3772807944.py, line 5)",
     "output_type": "error",
     "traceback": [
      "\u001b[1;36m  Input \u001b[1;32mIn [10]\u001b[1;36m\u001b[0m\n\u001b[1;33m    for i in range(1,int(sayı)):\u001b[0m\n\u001b[1;37m    ^\u001b[0m\n\u001b[1;31mIndentationError\u001b[0m\u001b[1;31m:\u001b[0m unexpected indent\n"
     ]
    }
   ],
   "source": [
    "#verilen sayıları toplayan program\n",
    "sayı=input(\"KACA KADAR TOPLAYAYIM: \")\n",
    "cıfttoplama=0\n",
    "    \n",
    "    for i in range(1,int(sayı)):\n",
    "        cıfttoplama+=i\n",
    "print(\"SorununCevabı={0}\".format(cıfttoplama))"
   ]
  },
  {
   "cell_type": "code",
   "execution_count": null,
   "id": "3ee47c93",
   "metadata": {},
   "outputs": [],
   "source": [
    "n=int(input(\"n=\"))\n",
    "a=2\n",
    "c=0\n",
    "while n>1:\n",
    "    if n%a>0:\n",
    "        a+=1\n",
    "        c=0\n",
    "    else:\n",
    "        n/a\n",
    "        c+=1\n",
    "        if c==1:\n",
    "            print(a)"
   ]
  },
  {
   "cell_type": "code",
   "execution_count": 4,
   "id": "420a257c",
   "metadata": {},
   "outputs": [
    {
     "name": "stdout",
     "output_type": "stream",
     "text": [
      "!\n",
      "a\n",
      "y\n",
      "n\n",
      "ü\n",
      "D\n",
      " \n",
      "a\n",
      "b\n",
      "a\n",
      "h\n",
      "r\n",
      "e\n",
      "M\n"
     ]
    }
   ],
   "source": [
    "str=\"Merhaba Dünya!\"\n",
    "for i in range(13,-1,-1):\n",
    "    print(str[i])"
   ]
  },
  {
   "cell_type": "code",
   "execution_count": 10,
   "id": "6b3f6655",
   "metadata": {},
   "outputs": [
    {
     "name": "stdout",
     "output_type": "stream",
     "text": [
      "Merhaba Dünya\n",
      "Merhaba Dünya\n",
      "Merhaba Dünya\n",
      "Merhaba Dünya\n",
      "Merhaba Dünya\n",
      "Merhaba Dünya\n",
      "Merhaba Dünya\n",
      "Merhaba Dünya\n",
      "Merhaba Dünya\n",
      "Merhaba Dünya\n",
      "Merhaba Dünya\n",
      "Merhaba Dünya\n",
      "Merhaba Dünya\n"
     ]
    }
   ],
   "source": [
    "str='Merhaba Dünya'\n",
    "sesli=['a','e','ı','i','u','ü',]\n",
    "sesliN=0\n",
    "sessizN=0\n",
    "for i in str:\n",
    "    if sesli==str:\n",
    "        sesliN+=1\n",
    "        print(str)\n",
    "    else:\n",
    "        sessizN+=1\n",
    "        print(str)"
   ]
  },
  {
   "cell_type": "code",
   "execution_count": null,
   "id": "e5991c3b",
   "metadata": {},
   "outputs": [],
   "source": [
    "a=1\n",
    "b=1\n",
    "c=0\n",
    "while c<300:\n",
    "    print(b)\n",
    "    c=a+b\n",
    "    a=b\n",
    "    b=c\n",
    "    "
   ]
  },
  {
   "cell_type": "code",
   "execution_count": 9,
   "id": "c6192b76",
   "metadata": {},
   "outputs": [
    {
     "name": "stdout",
     "output_type": "stream",
     "text": [
      "1\n",
      "12\n",
      "123\n",
      "1234\n",
      "12345\n",
      "123456\n",
      "1234567\n",
      "12345678\n",
      "123456789\n",
      "12345678910\n"
     ]
    }
   ],
   "source": [
    "for satır in range(1,11):\n",
    "    for sütün in range(1,satır+1):\n",
    "        print(sütün,end='')\n",
    "    print()"
   ]
  },
  {
   "cell_type": "code",
   "execution_count": 4,
   "id": "895d990a",
   "metadata": {},
   "outputs": [
    {
     "name": "stdout",
     "output_type": "stream",
     "text": [
      "1\n",
      "22\n",
      "333\n",
      "4444\n",
      "55555\n",
      "666666\n",
      "7777777\n",
      "88888888\n",
      "999999999\n",
      "10101010101010101010\n"
     ]
    }
   ],
   "source": [
    "for satır in range(1,11):\n",
    "    for sutun in range(1,satır+1):\n",
    "        print(satır,end='')\n",
    "    print()"
   ]
  },
  {
   "cell_type": "code",
   "execution_count": 7,
   "id": "52690cb2",
   "metadata": {},
   "outputs": [
    {
     "name": "stdout",
     "output_type": "stream",
     "text": [
      "1\n",
      "23\n",
      "456\n",
      "78910\n",
      "1112131415\n",
      "161718192021\n",
      "22232425262728\n",
      "2930313233343536\n",
      "373839404142434445\n",
      "46474849505152535455\n"
     ]
    }
   ],
   "source": [
    "a=1\n",
    "for satır in range(1,11):\n",
    "    for sutun in range(1,satır+1):\n",
    "        print(a,end='')\n",
    "        a+=1\n",
    "    print()"
   ]
  },
  {
   "cell_type": "code",
   "execution_count": 3,
   "id": "d0615f73",
   "metadata": {},
   "outputs": [
    {
     "name": "stdout",
     "output_type": "stream",
     "text": [
      "0 İla 100 Arasında Sayı Girin60\n"
     ]
    },
    {
     "ename": "TypeError",
     "evalue": "'<' not supported between instances of 'str' and 'int'",
     "output_type": "error",
     "traceback": [
      "\u001b[1;31m---------------------------------------------------------------------------\u001b[0m",
      "\u001b[1;31mTypeError\u001b[0m                                 Traceback (most recent call last)",
      "Input \u001b[1;32mIn [3]\u001b[0m, in \u001b[0;36m<cell line: 4>\u001b[1;34m()\u001b[0m\n\u001b[0;32m      2\u001b[0m sayı\u001b[38;5;241m=\u001b[39m\u001b[38;5;241m50\u001b[39m\n\u001b[0;32m      3\u001b[0m c\u001b[38;5;241m=\u001b[39m\u001b[38;5;241m0\u001b[39m\n\u001b[1;32m----> 4\u001b[0m \u001b[38;5;28;01mwhile\u001b[39;00m \u001b[43ma\u001b[49m\u001b[38;5;241;43m<\u001b[39;49m\u001b[38;5;241;43m100\u001b[39;49m:\n\u001b[0;32m      5\u001b[0m     \u001b[38;5;28;01mif\u001b[39;00m x\u001b[38;5;241m>\u001b[39msayı:\n\u001b[0;32m      6\u001b[0m         \u001b[38;5;28mprint\u001b[39m(\u001b[38;5;124m'\u001b[39m\u001b[38;5;124mdaha kücük bir sayı gir\u001b[39m\u001b[38;5;124m'\u001b[39m)\n",
      "\u001b[1;31mTypeError\u001b[0m: '<' not supported between instances of 'str' and 'int'"
     ]
    }
   ],
   "source": [
    "a=int(input('0 İla 100 Arasında Sayı Girin'))\n",
    "sayı=50\n",
    "c=0\n",
    "while a<100:\n",
    "    if x>sayı:\n",
    "        print('daha kücük bir sayı gir')\n",
    "        c+=1\n",
    "    elif x<sayı:\n",
    "        print('daha büyük bir sayı gir')\n",
    "        c+=1\n",
    "    else:\n",
    "        print('OYUNU KAZANDIN')"
   ]
  },
  {
   "cell_type": "code",
   "execution_count": 2,
   "id": "9d78d26f",
   "metadata": {},
   "outputs": [
    {
     "name": "stdout",
     "output_type": "stream",
     "text": [
      "ilk=2\n",
      "son=21\n",
      "3\n",
      "5\n",
      "7\n",
      "9\n",
      "11\n",
      "13\n",
      "15\n",
      "17\n",
      "19\n"
     ]
    }
   ],
   "source": [
    "ilk=int(input('ilk='))\n",
    "son=int(input('son='))\n",
    "x=2\n",
    "c=0\n",
    "for i in range(ilk,son,1):\n",
    "    if i%x==1:\n",
    "        c+=1\n",
    "        print(i)\n",
    "    \n",
    "        "
   ]
  },
  {
   "cell_type": "code",
   "execution_count": 23,
   "id": "dd60daeb",
   "metadata": {},
   "outputs": [
    {
     "name": "stdout",
     "output_type": "stream",
     "text": [
      "kilo giriniz:120\n",
      "boyu giriniz:90\n",
      "zayıf\n"
     ]
    }
   ],
   "source": [
    "kilo=int(input('kilo giriniz:'))\n",
    "boy=int(input('boyu giriniz:'))\n",
    "VK=kilo/(boy)**2\n",
    "c=0\n",
    "\n",
    "if VK>0 and VK<18:\n",
    "    c+=1\n",
    "    print('zayıf')\n",
    "elif VK>=18 and VK<25:\n",
    "    c+=1\n",
    "    print('orta')\n",
    "elif VK>=25 and VK<30:\n",
    "    c+=1\n",
    "    print('kilolu')\n",
    "elif VK>=30:\n",
    "    c+=1\n",
    "    print('obez')\n",
    "else:\n",
    "    print('yanlış değer')\n"
   ]
  },
  {
   "cell_type": "code",
   "execution_count": 17,
   "id": "56d87bb0",
   "metadata": {},
   "outputs": [
    {
     "name": "stdout",
     "output_type": "stream",
     "text": [
      "sayı:3\n",
      "1.1111111111111112\n"
     ]
    }
   ],
   "source": [
    "x=int(input('sayı:'))\n",
    "a=10\n",
    "k=a/(x)**2\n",
    "print(k)"
   ]
  },
  {
   "cell_type": "code",
   "execution_count": null,
   "id": "a005df9e",
   "metadata": {},
   "outputs": [],
   "source": []
  }
 ],
 "metadata": {
  "kernelspec": {
   "display_name": "Python 3 (ipykernel)",
   "language": "python",
   "name": "python3"
  },
  "language_info": {
   "codemirror_mode": {
    "name": "ipython",
    "version": 3
   },
   "file_extension": ".py",
   "mimetype": "text/x-python",
   "name": "python",
   "nbconvert_exporter": "python",
   "pygments_lexer": "ipython3",
   "version": "3.9.12"
  }
 },
 "nbformat": 4,
 "nbformat_minor": 5
}

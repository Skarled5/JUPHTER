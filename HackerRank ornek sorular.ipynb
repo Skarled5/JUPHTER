{
 "cells": [
  {
   "cell_type": "code",
   "execution_count": 3,
   "id": "9252d528",
   "metadata": {},
   "outputs": [
    {
     "data": {
      "text/plain": [
       "10"
      ]
     },
     "execution_count": 3,
     "metadata": {},
     "output_type": "execute_result"
    }
   ],
   "source": [
    "def howManyGames(p, d, m, s):\n",
    "    # Return the number of games you can buy\n",
    "    c=0\n",
    "    k=0\n",
    "    while s>=k:\n",
    "        for i in range(p,m,-d):\n",
    "            if i==m:\n",
    "                c+=1\n",
    "                k+=i\n",
    "            else:\n",
    "                c+=1\n",
    "                k+=i\n",
    "    return c\n",
    "\n",
    "howManyGames(20,3,6,70)"
   ]
  },
  {
   "cell_type": "code",
   "execution_count": 10,
   "id": "7290aa33",
   "metadata": {},
   "outputs": [
    {
     "data": {
      "text/plain": [
       "[4, 2]"
      ]
     },
     "execution_count": 10,
     "metadata": {},
     "output_type": "execute_result"
    }
   ],
   "source": [
    "def minimumDistances(a):\n",
    "    # Write your code here\n",
    "    b=[]\n",
    "    for i in range(len(a)):\n",
    "        for j in range(i+1,len(a)):\n",
    "            if a[i]==a[j]:\n",
    "                b.append(abs(i-j))\n",
    "    return b\n",
    "                \n",
    "\n",
    "minimumDistances([1,2,3,2,1])"
   ]
  },
  {
   "cell_type": "code",
   "execution_count": 13,
   "id": "5893d2e1",
   "metadata": {},
   "outputs": [
    {
     "name": "stdout",
     "output_type": "stream",
     "text": [
      "[9]\n"
     ]
    }
   ],
   "source": [
    "def kaprekarNumbers(p, q):\n",
    "    kap = []\n",
    "    for i in range(p, q+1):\n",
    "        sayı = i ** 2\n",
    "        str_sayı = str(sayı)\n",
    "        mid = len(str_sayı) // 2\n",
    "        left = int(str_sayı[:mid])\n",
    "        right = int(str_sayı[mid:])\n",
    "        if left + right == i:\n",
    "            kap.append(i)\n",
    "    return kap\n",
    "\n",
    "print(kaprekarNumbers(8, 15))\n",
    "        \n",
    "        \n",
    "        \n",
    "        "
   ]
  },
  {
   "cell_type": "code",
   "execution_count": 2,
   "id": "6a66c2b4",
   "metadata": {},
   "outputs": [
    {
     "name": "stdout",
     "output_type": "stream",
     "text": [
      "6\n"
     ]
    }
   ],
   "source": [
    "def repeatedString(s, n):\n",
    "    c = 0\n",
    "    harf = 0\n",
    "    while len(s)+c <= n:\n",
    "        for i in range(len(s)):\n",
    "            s += s[i]\n",
    "            c += 1\n",
    "            \n",
    "    for i in range(len(s)):\n",
    "        if s[i] == 'a':\n",
    "            harf += 1\n",
    "    return harf\n",
    "    \n",
    "print(repeatedString('abaa', 10))\n",
    "            \n",
    "    \n",
    "        "
   ]
  },
  {
   "cell_type": "code",
   "execution_count": 5,
   "id": "38f6a225",
   "metadata": {},
   "outputs": [
    {
     "data": {
      "text/plain": [
       "[1, 2, 1]"
      ]
     },
     "execution_count": 5,
     "metadata": {},
     "output_type": "execute_result"
    }
   ],
   "source": [
    "def cubuk(dizi):\n",
    "    uzunluk=[]\n",
    "    for i in range(len(dizi)):\n",
    "        for j in range(i+1,len(dizi)):\n",
    "            if dizi[j]>dizi[i]:\n",
    "                uzunluk.append(abs(dizi[j]-dizi[i]))\n",
    "            else:\n",
    "                uzunluk.append(abs(dizi[i]-dizi[j]))\n",
    "    \n",
    "    return uzunluk\n",
    "\n",
    "cubuk([1,2,3])\n",
    "\n",
    "                "
   ]
  },
  {
   "cell_type": "code",
   "execution_count": 11,
   "id": "3bce5155",
   "metadata": {},
   "outputs": [
    {
     "name": "stdout",
     "output_type": "stream",
     "text": [
      "[25]\n"
     ]
    }
   ],
   "source": [
    "def aralık(a, b):\n",
    "    kartam = []\n",
    "    for i in range(a, b + 1):\n",
    "        if int(i**0.5) == i**0.5: # int otamatik olarak en yakın tam sayıya çevirir ve öyle karşılaştırır \n",
    "            kartam.append(i)\n",
    "    return kartam\n",
    "\n",
    "print(aralık(20, 30))  "
   ]
  },
  {
   "cell_type": "code",
   "execution_count": 14,
   "id": "38b91706",
   "metadata": {},
   "outputs": [
    {
     "name": "stdout",
     "output_type": "stream",
     "text": [
      "8\n"
     ]
    }
   ],
   "source": [
    "def metin(m):\n",
    "    count = 0\n",
    "    for char in m:\n",
    "        if char == \" \":\n",
    "            count += 1\n",
    "    return len(m) - count\n",
    "\n",
    "print(metin(\"ben ve sen\"))"
   ]
  },
  {
   "cell_type": "code",
   "execution_count": 1,
   "id": "482ef5ef",
   "metadata": {},
   "outputs": [
    {
     "ename": "IndentationError",
     "evalue": "expected an indented block (4063205836.py, line 14)",
     "output_type": "error",
     "traceback": [
      "\u001b[1;36m  Input \u001b[1;32mIn [1]\u001b[1;36m\u001b[0m\n\u001b[1;33m    \u001b[0m\n\u001b[1;37m    ^\u001b[0m\n\u001b[1;31mIndentationError\u001b[0m\u001b[1;31m:\u001b[0m expected an indented block\n"
     ]
    }
   ],
   "source": [
    "def dizi(k):\n",
    "    c=0\n",
    "    tekrar=[]\n",
    "    for i in range(len(k)):\n",
    "        for j in range(i+1,len(k)):\n",
    "            if k[i]==k[j]:\n",
    "                c+=1\n",
    "                tekrar.append(k[i])\n",
    "                tekrar.append(k[j])\n",
    "    \n",
    "    return k\n",
    "\n",
    "    for p in tekrar:\n",
    "                "
   ]
  },
  {
   "cell_type": "code",
   "execution_count": 2,
   "id": "837b0836",
   "metadata": {},
   "outputs": [
    {
     "data": {
      "text/plain": [
       "-500"
      ]
     },
     "execution_count": 2,
     "metadata": {},
     "output_type": "execute_result"
    }
   ],
   "source": [
    "def kutuphaneTarih(d1,m1,y1,d2,m2,y2):\n",
    "    if m1==m2 and y1==y2:\n",
    "        if d1<=d2:\n",
    "            return 0\n",
    "        else:\n",
    "            return (d2-d1)*15\n",
    "\n",
    "    elif y1==y2:\n",
    "        if m1<=m2:\n",
    "            return 0\n",
    "        else:\n",
    "            return (m2-m1)*500\n",
    "    \n",
    "    elif y1<=y2:\n",
    "        return 0\n",
    "    \n",
    "    else:\n",
    "        return 0\n",
    "    \n",
    "kutuphaneTarih(5,7,2018,4,6,2018)\n",
    "    \n",
    "            "
   ]
  },
  {
   "cell_type": "code",
   "execution_count": 4,
   "id": "aa6916b6",
   "metadata": {},
   "outputs": [
    {
     "data": {
      "text/plain": [
       "2"
      ]
     },
     "execution_count": 4,
     "metadata": {},
     "output_type": "execute_result"
    }
   ],
   "source": [
    "def sayıBolum(n):\n",
    "    string=str(n)\n",
    "    liste=[]\n",
    "    bolunen=0\n",
    "    for i in string:\n",
    "        liste.append(int(i)) # karakteri sayı haline dönüştürüp ekleyiniz\n",
    "    for i in liste:\n",
    "        if i!=0 and n%i==0:\n",
    "            bolunen+=1\n",
    "    return bolunen\n",
    "\n",
    "sayıBolum(24)\n",
    "        "
   ]
  },
  {
   "cell_type": "code",
   "execution_count": null,
   "id": "16fa3d10",
   "metadata": {},
   "outputs": [],
   "source": [
    "def jumping(c,k):\n",
    "    energy=100\n",
    "    i=0\n",
    "    boolean=True\n",
    "    while(boolean):\n",
    "        i+=k\n",
    "        if i<len(c):\n",
    "            if c[i]==0:\n",
    "                energy-=1\n",
    "            else:\n",
    "                energy-=3\n",
    "        else:\n",
    "            i=i%len(c) # bu sayesinde listeyi tekrarlayabiliyoruz\n",
    "            if c[i]==0:\n",
    "                energy-=1\n",
    "            else:\n",
    "                energy-=3\n",
    "                \n",
    "        if i==0:\n",
    "            boolean=False\n",
    "    return energy\n",
    "\n",
    "jumping([0,1,1,0],1)"
   ]
  },
  {
   "cell_type": "code",
   "execution_count": null,
   "id": "8452aff8",
   "metadata": {},
   "outputs": [],
   "source": []
  }
 ],
 "metadata": {
  "kernelspec": {
   "display_name": "Python 3 (ipykernel)",
   "language": "python",
   "name": "python3"
  },
  "language_info": {
   "codemirror_mode": {
    "name": "ipython",
    "version": 3
   },
   "file_extension": ".py",
   "mimetype": "text/x-python",
   "name": "python",
   "nbconvert_exporter": "python",
   "pygments_lexer": "ipython3",
   "version": "3.9.12"
  }
 },
 "nbformat": 4,
 "nbformat_minor": 5
}

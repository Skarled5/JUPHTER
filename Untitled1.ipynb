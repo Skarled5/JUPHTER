{
 "cells": [
  {
   "cell_type": "code",
   "execution_count": 1,
   "id": "fefd9513",
   "metadata": {},
   "outputs": [
    {
     "name": "stdout",
     "output_type": "stream",
     "text": [
      "*\n",
      "**\n",
      "***\n",
      "****\n",
      "*****\n",
      "******\n",
      "*******\n",
      "********\n",
      "*********\n",
      "**********\n",
      "***********\n",
      "None\n"
     ]
    }
   ],
   "source": [
    "def fun(n):\n",
    "    if(n>1):\n",
    "        fun(n-1)\n",
    "    for i in range(n):\n",
    "        print('*',end='')\n",
    "    print('')\n",
    "print(fun(11))"
   ]
  },
  {
   "cell_type": "code",
   "execution_count": 2,
   "id": "bf73557a",
   "metadata": {},
   "outputs": [
    {
     "name": "stdout",
     "output_type": "stream",
     "text": [
      "5\n"
     ]
    }
   ],
   "source": [
    "def ebob(A,B,r):\n",
    "    c=0\n",
    "    if A==1 and B==1:\n",
    "        return 1\n",
    "    else: \n",
    "        if A%r==0:\n",
    "            c+=1\n",
    "            A=A/r\n",
    "        if B%r==0:\n",
    "            c+=1\n",
    "            B=B/r\n",
    "        if c==0:\n",
    "            r+=1\n",
    "            return ebob(A,B,r)\n",
    "        elif c==1:\n",
    "            return ebob(A,B,r)\n",
    "        else:\n",
    "            return r*ebob(A,B,r)\n",
    "print(ebob(30,25,2))\n",
    "\n",
    "\n",
    "        \n",
    "        \n",
    "        "
   ]
  },
  {
   "cell_type": "code",
   "execution_count": 12,
   "id": "65349268",
   "metadata": {},
   "outputs": [
    {
     "name": "stdout",
     "output_type": "stream",
     "text": [
      "[8, 9, 10, 11, 12, 13, 14, 15]\n"
     ]
    }
   ],
   "source": [
    "def arasi(n, m, artis_miktari):\n",
    "    if n >= m:\n",
    "        return []\n",
    "    else:\n",
    "        return [n] + arasi(n+artis_miktari, m, artis_miktari)\n",
    "print(arasi(8,16,1))"
   ]
  },
  {
   "cell_type": "code",
   "execution_count": 2,
   "id": "62c58065",
   "metadata": {},
   "outputs": [
    {
     "name": "stdout",
     "output_type": "stream",
     "text": [
      "[1, 1, 2, 3, 5, 8, 13, 21, 34, 55, 89, 144, 233]\n"
     ]
    }
   ],
   "source": [
    "def fib_dizisi(n, onceki, simdiki):\n",
    "   "
   ]
  },
  {
   "cell_type": "code",
   "execution_count": 13,
   "id": "4ccd3fcd",
   "metadata": {},
   "outputs": [
    {
     "ename": "SyntaxError",
     "evalue": "unexpected EOF while parsing (1280017408.py, line 7)",
     "output_type": "error",
     "traceback": [
      "\u001b[1;36m  Input \u001b[1;32mIn [13]\u001b[1;36m\u001b[0m\n\u001b[1;33m    \u001b[0m\n\u001b[1;37m    ^\u001b[0m\n\u001b[1;31mSyntaxError\u001b[0m\u001b[1;31m:\u001b[0m unexpected EOF while parsing\n"
     ]
    }
   ],
   "source": [
    "def A(elaman,liste):\n",
    "    if liste==[]:\n",
    "        return []\n",
    "    else:\n",
    "        return liste[0]+[elaman]\n",
    "print(A(2,[1,3,6,7])\n",
    "    "
   ]
  },
  {
   "cell_type": "code",
   "execution_count": 18,
   "id": "cb42c7dc",
   "metadata": {},
   "outputs": [
    {
     "ename": "TypeError",
     "evalue": "'function' object is not subscriptable",
     "output_type": "error",
     "traceback": [
      "\u001b[1;31m---------------------------------------------------------------------------\u001b[0m",
      "\u001b[1;31mTypeError\u001b[0m                                 Traceback (most recent call last)",
      "Input \u001b[1;32mIn [18]\u001b[0m, in \u001b[0;36m<cell line: 6>\u001b[1;34m()\u001b[0m\n\u001b[0;32m      4\u001b[0m     \u001b[38;5;28;01melse\u001b[39;00m:\n\u001b[0;32m      5\u001b[0m         \u001b[38;5;28;01mreturn\u001b[39;00m [liste[\u001b[38;5;241m-\u001b[39m\u001b[38;5;241m1\u001b[39m]]\u001b[38;5;241m+\u001b[39mlistetersdondur[:\u001b[38;5;241m-\u001b[39m\u001b[38;5;241m1\u001b[39m]\n\u001b[1;32m----> 6\u001b[0m \u001b[38;5;28mprint\u001b[39m(\u001b[43mlistetersdondur\u001b[49m\u001b[43m(\u001b[49m\u001b[43m[\u001b[49m\u001b[38;5;241;43m3\u001b[39;49m\u001b[43m,\u001b[49m\u001b[38;5;241;43m4\u001b[39;49m\u001b[43m,\u001b[49m\u001b[38;5;241;43m5\u001b[39;49m\u001b[43m]\u001b[49m\u001b[43m)\u001b[49m)\n",
      "Input \u001b[1;32mIn [18]\u001b[0m, in \u001b[0;36mlistetersdondur\u001b[1;34m(liste)\u001b[0m\n\u001b[0;32m      3\u001b[0m     \u001b[38;5;28;01mreturn\u001b[39;00m []\n\u001b[0;32m      4\u001b[0m \u001b[38;5;28;01melse\u001b[39;00m:\n\u001b[1;32m----> 5\u001b[0m     \u001b[38;5;28;01mreturn\u001b[39;00m [liste[\u001b[38;5;241m-\u001b[39m\u001b[38;5;241m1\u001b[39m]]\u001b[38;5;241m+\u001b[39m\u001b[43mlistetersdondur\u001b[49m\u001b[43m[\u001b[49m\u001b[43m:\u001b[49m\u001b[38;5;241;43m-\u001b[39;49m\u001b[38;5;241;43m1\u001b[39;49m\u001b[43m]\u001b[49m\n",
      "\u001b[1;31mTypeError\u001b[0m: 'function' object is not subscriptable"
     ]
    }
   ],
   "source": [
    "def listetersdondur(liste):\n",
    "    if liste==[]:\n",
    "        return []\n",
    "    else:\n",
    "        return [liste[-1]]+listetersdondur[:-1]\n",
    "print(listetersdondur([3,4,5]))"
   ]
  },
  {
   "cell_type": "code",
   "execution_count": 1,
   "id": "4e79b043",
   "metadata": {},
   "outputs": [
    {
     "name": "stdout",
     "output_type": "stream",
     "text": [
      "None\n"
     ]
    }
   ],
   "source": [
    "def asal_sayı_bulma(a,r):\n",
    "    \n",
    "    if a%r==0 and r<a:\n",
    "        return 0\n",
    "    else:\n",
    "        r+=1\n",
    "        \n",
    "        \n",
    "        \n",
    "            \n",
    "    \n",
    "print(asal_sayı_bulma(7,2))\n",
    "    \n",
    "    "
   ]
  },
  {
   "cell_type": "code",
   "execution_count": 4,
   "id": "6646e4dd",
   "metadata": {},
   "outputs": [
    {
     "name": "stdout",
     "output_type": "stream",
     "text": [
      "1 ise asal 0 ise asal değil\n",
      "1\n"
     ]
    }
   ],
   "source": [
    "print('1 ise asal 0 ise asal değil')\n",
    "def Asal(sayi):\n",
    "    adet=0\n",
    "    for i in range(2,sayi+1):\n",
    "        if sayi%i==0:\n",
    "            adet+=1\n",
    "    if adet==1:\n",
    "        return 1\n",
    "    else:\n",
    "        return 0\n",
    "print(Asal(13))\n",
    "        \n",
    " \n"
   ]
  },
  {
   "cell_type": "code",
   "execution_count": 6,
   "id": "0386bc9c",
   "metadata": {},
   "outputs": [
    {
     "name": "stdout",
     "output_type": "stream",
     "text": [
      "1.7511900715418265\n"
     ]
    }
   ],
   "source": [
    "import math   # karekök için\n",
    "\n",
    "def stsapma(x1, x2, *y):\n",
    "    N = len(y) + 2 # Fonksiyona verilen parametre sayısı\n",
    "\n",
    "    # ortalamayı hesapla\n",
    "    toplam = x1 + x2\n",
    "    for z in y:\n",
    "        toplam += z\n",
    "    ort = toplam / N\n",
    "\n",
    "    karetoplam = (x1-ort)**2 + (x2-ort)**2\n",
    "    for z in y:\n",
    "        karetoplam += (z-ort)**2\n",
    "    stsap = math.sqrt(karetoplam / (N-1))\n",
    "\n",
    "    return stsap\n",
    "print(stsapma(6,4,3,2,4,1))\n",
    "    "
   ]
  },
  {
   "cell_type": "code",
   "execution_count": 1,
   "id": "68be68ad",
   "metadata": {},
   "outputs": [
    {
     "ename": "TypeError",
     "evalue": "'list' object cannot be interpreted as an integer",
     "output_type": "error",
     "traceback": [
      "\u001b[1;31m---------------------------------------------------------------------------\u001b[0m",
      "\u001b[1;31mTypeError\u001b[0m                                 Traceback (most recent call last)",
      "Input \u001b[1;32mIn [1]\u001b[0m, in \u001b[0;36m<cell line: 5>\u001b[1;34m()\u001b[0m\n\u001b[0;32m      3\u001b[0m         \u001b[38;5;28;01mfor\u001b[39;00m j \u001b[38;5;129;01min\u001b[39;00m \u001b[38;5;28mrange\u001b[39m(A):\n\u001b[0;32m      4\u001b[0m             \u001b[38;5;28mprint\u001b[39m(A[i][j],end\u001b[38;5;241m=\u001b[39m\u001b[38;5;124m'\u001b[39m\u001b[38;5;124m'\u001b[39m)\n\u001b[1;32m----> 5\u001b[0m \u001b[38;5;28mprint\u001b[39m(\u001b[43mMatrisYaz\u001b[49m\u001b[43m(\u001b[49m\u001b[43m[\u001b[49m\u001b[43m[\u001b[49m\u001b[38;5;241;43m0\u001b[39;49m\u001b[43m,\u001b[49m\u001b[38;5;241;43m1\u001b[39;49m\u001b[43m,\u001b[49m\u001b[38;5;241;43m1\u001b[39;49m\u001b[43m,\u001b[49m\u001b[38;5;241;43m0\u001b[39;49m\u001b[43m]\u001b[49m\u001b[43m,\u001b[49m\u001b[43m[\u001b[49m\u001b[38;5;241;43m0\u001b[39;49m\u001b[43m,\u001b[49m\u001b[38;5;241;43m1\u001b[39;49m\u001b[43m,\u001b[49m\u001b[38;5;241;43m0\u001b[39;49m\u001b[43m,\u001b[49m\u001b[38;5;241;43m1\u001b[39;49m\u001b[43m]\u001b[49m\u001b[43m]\u001b[49m\u001b[43m)\u001b[49m)\n",
      "Input \u001b[1;32mIn [1]\u001b[0m, in \u001b[0;36mMatrisYaz\u001b[1;34m(A)\u001b[0m\n\u001b[0;32m      1\u001b[0m \u001b[38;5;28;01mdef\u001b[39;00m \u001b[38;5;21mMatrisYaz\u001b[39m(A):\n\u001b[1;32m----> 2\u001b[0m     \u001b[38;5;28;01mfor\u001b[39;00m i \u001b[38;5;129;01min\u001b[39;00m \u001b[38;5;28;43mrange\u001b[39;49m\u001b[43m(\u001b[49m\u001b[43mA\u001b[49m\u001b[43m)\u001b[49m:\n\u001b[0;32m      3\u001b[0m         \u001b[38;5;28;01mfor\u001b[39;00m j \u001b[38;5;129;01min\u001b[39;00m \u001b[38;5;28mrange\u001b[39m(A):\n\u001b[0;32m      4\u001b[0m             \u001b[38;5;28mprint\u001b[39m(A[i][j],end\u001b[38;5;241m=\u001b[39m\u001b[38;5;124m'\u001b[39m\u001b[38;5;124m'\u001b[39m)\n",
      "\u001b[1;31mTypeError\u001b[0m: 'list' object cannot be interpreted as an integer"
     ]
    }
   ],
   "source": [
    "\n",
    "def MatrisYaz(A):\n",
    "    for i in range(A):\n",
    "        for j in range(A):\n",
    "            print(A[i][j],end='')\n",
    "print(MatrisYaz([[0,1,1,0],[0,1,0,1]]))\n",
    "    \n",
    "    \n"
   ]
  },
  {
   "cell_type": "code",
   "execution_count": 14,
   "id": "2b08d22f",
   "metadata": {},
   "outputs": [
    {
     "name": "stdout",
     "output_type": "stream",
     "text": [
      "b\n",
      "None\n",
      "c\n"
     ]
    }
   ],
   "source": [
    "def harfbulma(a):\n",
    "    harf=input()\n",
    "    c=0\n",
    "    for i in a:\n",
    "        if a==harf:\n",
    "            c+=1\n",
    "            return a\n",
    "        \n",
    "print(harfbulma('benim'))\n",
    "print('c')\n",
    "                \n",
    "            \n",
    "\n",
    "    "
   ]
  },
  {
   "cell_type": "code",
   "execution_count": 15,
   "id": "778348b1",
   "metadata": {},
   "outputs": [
    {
     "name": "stdout",
     "output_type": "stream",
     "text": [
      "21\n"
     ]
    }
   ],
   "source": [
    "def sum_r(liste):\n",
    "    if liste == []:\n",
    "        return 0\n",
    "    else:\n",
    "        if type(liste[0]) != list:\n",
    "            return liste[0] + sum_r(liste[1:])\n",
    "        else:\n",
    "            return sum_r(liste[0]) + sum_r(liste[1:])\n",
    "print(sum_r([1,2,3,4,5,6]))"
   ]
  },
  {
   "cell_type": "code",
   "execution_count": 9,
   "id": "1430b127",
   "metadata": {},
   "outputs": [
    {
     "name": "stdout",
     "output_type": "stream",
     "text": [
      "[2, 4, -1, 7, -5, 3]\n",
      "[2, 4, 7, -1, -5, 3]\n",
      "[2, 4, 7, -5, -1, 3]\n"
     ]
    }
   ],
   "source": [
    "A=[2,-1,4,7,-5,3]\n",
    "for i in range(1,6):\n",
    "    if A[i-1]>A[i]:\n",
    "        yedek=A[i]\n",
    "        A[i]=A[i+1]\n",
    "        A[i+1]=yedek\n",
    "        print(A)"
   ]
  },
  {
   "cell_type": "code",
   "execution_count": 16,
   "id": "9a2b4a71",
   "metadata": {},
   "outputs": [
    {
     "name": "stdout",
     "output_type": "stream",
     "text": [
      "[-1, 2, 4, 7, -5, 3]\n",
      "[-1, 2, 4, -5, 7, 3]\n",
      "[-1, 2, 4, -5, 3, 7]\n"
     ]
    }
   ],
   "source": [
    "A=[2,-1,4,7,-5,3]\n",
    "for i in range(1,6):\n",
    "    for j in range(6):\n",
    "        if A[i-1]>A[i]:\n",
    "            k=A[i-1]\n",
    "            A[i-1]=A[i]\n",
    "            A[i]=k\n",
    "            print(A)"
   ]
  },
  {
   "cell_type": "code",
   "execution_count": 2,
   "id": "802ccd7f",
   "metadata": {},
   "outputs": [
    {
     "name": "stdout",
     "output_type": "stream",
     "text": [
      "a:2\n",
      "b:20\n",
      "c:20\n",
      "0\n",
      "1\n",
      "2\n",
      "3\n",
      "4\n",
      "5\n",
      "6\n",
      "7\n",
      "8\n",
      "9\n",
      "10\n",
      "11\n",
      "12\n"
     ]
    }
   ],
   "source": [
    "a=int(input('a:'))\n",
    "b=int(input('b:'))\n",
    "c=int(input('c:'))\n",
    "x=0\n",
    "while x<(b+c-a)/3:\n",
    "    if x<(b+c-a)/3:\n",
    "        print(x)\n",
    "        x+=1\n",
    "    else:\n",
    "        print('hatalı')\n",
    "        \n",
    "\n",
    "\n",
    "    "
   ]
  },
  {
   "cell_type": "code",
   "execution_count": null,
   "id": "b3d9802b",
   "metadata": {},
   "outputs": [],
   "source": [
    "adet=int(input('adet:'))\n",
    "paket=0\n",
    "saniye=0\n",
    "k=12\n",
    "l=15\n",
    "while paket<adet:\n",
    "    c=0\n",
    "    if saniye%k==0 and saniye%l==0:\n",
    "        paket+=1\n",
    "        c+=1\n",
    "    else:\n",
    "        saniye+=1\n",
    "        \n",
    "        \n",
    "        \n"
   ]
  }
 ],
 "metadata": {
  "kernelspec": {
   "display_name": "Python 3 (ipykernel)",
   "language": "python",
   "name": "python3"
  },
  "language_info": {
   "codemirror_mode": {
    "name": "ipython",
    "version": 3
   },
   "file_extension": ".py",
   "mimetype": "text/x-python",
   "name": "python",
   "nbconvert_exporter": "python",
   "pygments_lexer": "ipython3",
   "version": "3.9.12"
  }
 },
 "nbformat": 4,
 "nbformat_minor": 5
}

{
 "cells": [
  {
   "cell_type": "code",
   "execution_count": 1,
   "id": "b32e75e6",
   "metadata": {},
   "outputs": [
    {
     "name": "stdout",
     "output_type": "stream",
     "text": [
      "1\n",
      "2\n",
      "3\n",
      "4\n",
      "6\n",
      "8\n",
      "12\n",
      "24\n"
     ]
    }
   ],
   "source": [
    "#Verilen bir n tamsayısının bölenlerini bulan ve bu değerleri ekrana yazan özdevinim \n",
    "#(recursion) fonksiyonu yazınız. Fonksiyon n değerini parametre olarak alacaktır\n",
    "\n",
    "def bolunenleri_bul(n, i):\n",
    "    if i > n:\n",
    "        return\n",
    "    \n",
    "    if n % i == 0:\n",
    "        print(i)\n",
    "    \n",
    "    return bolunenleri_bul(n, i + 1) # burada i kendini bir artırıyor öz yineleme sağlıyor \n",
    "\n",
    " \n",
    "bolunenleri_bul(24,1)"
   ]
  },
  {
   "cell_type": "code",
   "execution_count": 2,
   "id": "ab03080b",
   "metadata": {},
   "outputs": [],
   "source": [
    "def UcEleman(D, k):\n",
    "    if k < 3:\n",
    "        return D\n",
    "    \n",
    "    D[k] = D[k] + D[k - 1] + D[k - 2]\n",
    "    return UcEleman(D, k - 3)\n",
    "\n",
    "# Örnek kullanım\n",
    "D = [1, 2, 3, 4, 5, 6, 7, 8, 9, 10]\n",
    "k = len(D) - 1"
   ]
  },
  {
   "cell_type": "code",
   "execution_count": 3,
   "id": "14c57192",
   "metadata": {},
   "outputs": [],
   "source": [
    "#Üç tane tamsayı klavyeden girilecektir. Bu sayıların hepsi pozitif doğal sayı olup bütün \n",
    "#sayılar girilen üç sayıdan en küçüğüne bölündükten sonra elde edilen bölümler reel sayı olarak \n",
    "#alınacaktır. Bu bölümlerden örneğin 4.001 gibi bir bölüm varsa, bu bölüm 5 şeklinde düşünülecektir. \n",
    "#Elde edilen üç tane reel sayı kadar ekrana yıldız yazdırılacaktır. Birinci satırda birinci sayı için elde \n",
    "#edilen reel sayı kadar yıldız; ikinci satırda ikinci sayı için elde edilen reel sayı kadar yıldız ve üçüncü \n",
    "#satırda üçüncü sayı için elde edilen reel sayı kadar yıldız yazılacaktır. Bu işlemleri gerçekleştiren \n",
    "#programı yazınız."
   ]
  },
  {
   "cell_type": "code",
   "execution_count": 4,
   "id": "0d2c04fe",
   "metadata": {},
   "outputs": [
    {
     "name": "stdout",
     "output_type": "stream",
     "text": [
      "[1, 2, 3, 4, 6, 8, 12, 24]\n"
     ]
    }
   ],
   "source": [
    "def fonksiyon(n):\n",
    "    B = []\n",
    "    x = 0\n",
    "    for i in range(1, n + 1):\n",
    "        if n % i == 0:\n",
    "            B.append(i)\n",
    "            x += 1\n",
    "    return B\n",
    "\n",
    "# Örnek kullanım\n",
    "n = 24\n",
    "B = fonksiyon(n)\n",
    "print(B)"
   ]
  },
  {
   "cell_type": "code",
   "execution_count": 5,
   "id": "72371876",
   "metadata": {},
   "outputs": [
    {
     "name": "stdout",
     "output_type": "stream",
     "text": [
      "165\n"
     ]
    }
   ],
   "source": [
    "#Bir bilgisayar programın girilen iki tane pozitif tamsayı arasındaki sayıların \n",
    "#toplamını bulmaktadır (girilen sayılar dahil olacaktır). Bu amaçla int Topla(int, int) \n",
    "#fonksiyonu bu işi gerçekleştiren bir fonksiyondur. Parametre olarak gelen iki sayıdan birinci \n",
    "#parametre küçükse, küçükten büyüğe doğru toplama işlemi yapılacaktır. Birinci parametre \n",
    "#büyükse, büyükten küçüğe doğru toplama işlemi gerçekleştirilecektir. Bu fonksiyonu yazınız\n",
    "\n",
    "def topla(a,b):\n",
    "    toplam=0\n",
    "    if a<b:\n",
    "        for i in range(a,b+1):\n",
    "            toplam+=i\n",
    "        return toplam\n",
    "    else:\n",
    "        for i in range(a,b-1,-1):\n",
    "            toplam+=i\n",
    "        return toplam\n",
    "\n",
    "sonuc=topla(10,20)\n",
    "print(sonuc)        \n",
    "\n",
    "# NOT: return döngünün dışına yapılır çünkü döngüde yapılırsa fonksiyonu başa döndürür ve döngüden çıkar"
   ]
  },
  {
   "cell_type": "code",
   "execution_count": 6,
   "id": "631b361b",
   "metadata": {},
   "outputs": [
    {
     "name": "stdout",
     "output_type": "stream",
     "text": [
      "[[], [], [], [], [], [], [], []]\n",
      "[[], [], [], [], [], [], [], []]\n",
      "[[], [], [], [], [], [], [], []]\n",
      "[[], [], [], [], [], [], [], []]\n",
      "[[], [], [], [], [], [], [], []]\n",
      "[[], [], [], [], [], [], [], []]\n",
      "[[], [], [], [], [], [], [], []]\n",
      "[[], [], [], [], [], [], [], []]\n",
      "[[], [], [], [], [], [], [], []]\n",
      "[[], [], [], [], [], [], [], []]\n"
     ]
    }
   ],
   "source": [
    "matris = []\n",
    "\n",
    "for i in range(10):   # iç içe döngüde i bir sütünda 10 birimlik yer ayarlar ve 8 tanede satır oluşturur\n",
    "    satir = []\n",
    "    for j in range(8):\n",
    "        satir.append([])  # Matrisin elemanlarını istediğiniz değerle değiştirebilirsiniz\n",
    "    matris.append(satir)\n",
    "\n",
    "# Oluşturulan matrisi yazdırma\n",
    "for satir in matris:\n",
    "    print(satir)"
   ]
  },
  {
   "cell_type": "code",
   "execution_count": null,
   "id": "2e7cbbc1",
   "metadata": {},
   "outputs": [],
   "source": [
    "HARFLER = []\n",
    "RAKAMLAR = []\n",
    "\n",
    "while True:\n",
    "    karakter = input(\"Bir karakter girin: \")\n",
    "\n",
    "    if karakter==\"ç\":\n",
    "        break\n",
    "\n",
    "    harf_mi = False\n",
    "    rakam_mi = False\n",
    "\n",
    "    for harf in \"abcdefghijklmnopqrstuvwxyzABCDEFGHIJKLMNOPQRSTUVWXYZ\":\n",
    "        if karakter == harf:\n",
    "            HARFLER.append(karakter)\n",
    "            harf_mi = True\n",
    "            \n",
    "\n",
    "    for rakam in \"0123456789\":\n",
    "            if karakter == rakam:\n",
    "                RAKAMLAR.append(karakter)\n",
    "                rakam_mi = True\n",
    "                \n",
    "\n",
    "print(\"Girilen harfler:\", HARFLER)\n",
    "print(\"Girilen rakamlar:\", RAKAMLAR)"
   ]
  },
  {
   "cell_type": "code",
   "execution_count": null,
   "id": "7a7c1580",
   "metadata": {},
   "outputs": [],
   "source": []
  },
  {
   "cell_type": "code",
   "execution_count": null,
   "id": "e6bd8ec2",
   "metadata": {},
   "outputs": [],
   "source": [
    "# 30 kişilik bir sınıfta öğrencilerin ad, soyad ve doğum tarihlerinin tutulacağı bir program yazılması \n",
    "#gerekmektedir. Bu bilgilerin tutulması için sadece bir tane dizi tanımlanacaktır. Buna göre aşağıdaki soruları \n",
    "#cevaplayınız.\n",
    "#a) Dizinin her elemanını tanımlayınız.\n",
    "#b) Bu diziye eleman ekleme fonksiyonunu yazınız (Eğer eklenen öğrenci sayısı 30 olduysa program \n",
    "#abstarafından yeni eleman ekleme işlemi yapılmayacaktır)\n",
    "sinif = []\n",
    "\n",
    "while len(sinif) < 30:\n",
    "    ad = input(\"Öğrencinin adını girin: \")\n",
    "    soyad = input(\"Öğrencinin soyadını girin: \")\n",
    "    dogum_tarihi = input(\"Öğrencinin doğum tarihini girin: \")\n",
    "\n",
    "    ogrenci = (ad, soyad, dogum_tarihi)\n",
    "    sinif.append(ogrenci)\n",
    "\n",
    "print(\"Sınıf listesi:\")\n",
    "for ogrenci in sinif:\n",
    "    print(\"Ad:\", ogrenci[0])\n",
    "    print(\"Soyad:\", ogrenci[1])\n",
    "    print(\"Doğum Tarihi:\", ogrenci[2])\n",
    "                        "
   ]
  },
  {
   "cell_type": "markdown",
   "id": "bd7463f7",
   "metadata": {},
   "source": [
    "Kullanıcının klavyeden girdiği rakamları ayrı-ayrı olarak okuduktan sonra bu rakamları onluk \n",
    "tabanda bir sayı durumuna getiren programı yazınız. Sonuç tekrar ekrana yazılacaktır. Örnek; kullanıcı \n",
    "klavyeden sırası ile ‘9’, ‘7’, 0’ ve ‘5’ rakamlarını girmiş olsun. Programınız bu rakamları 9705 şeklinde bir\n",
    "sayıya dönüştürecektir. Kullanıcı ‘s’ veya ‘S’ karakterine bastığında işlem bitirilecektir.\n"
   ]
  },
  {
   "cell_type": "code",
   "execution_count": null,
   "id": "3af46c94",
   "metadata": {},
   "outputs": [],
   "source": [
    "def rakamlari_sayiya_donustur():\n",
    "    rakamlar = []\n",
    "    while True:\n",
    "        rakam = input(\"Bir rakam girin ('s'  tuşuna basarak çıkış yapın): \")\n",
    "        if rakam == 's':\n",
    "            break\n",
    "        if rakam >= '0' and rakam <= '9':\n",
    "            rakamlar.append(rakam)\n",
    "        else:\n",
    "            print(\"Geçersiz giriş! Lütfen bir rakam girin.\")\n",
    "    \n",
    "    kuvvet = 1\n",
    "    sayi = 0\n",
    "    for i in range(len(rakamlar) - 1, -1, -1):\n",
    "        sayi += int(rakamlar[i]) * kuvvet\n",
    "        kuvvet *= 10\n",
    "\n",
    "    print(\"Sonuç:\", sayi)\n",
    "\n",
    "\n",
    "rakamlari_sayiya_donustur()\n",
    "        \n",
    "        \n",
    "    \n",
    "\n",
    "    "
   ]
  },
  {
   "cell_type": "markdown",
   "id": "f4667a3e",
   "metadata": {},
   "source": [
    "Üç farklı top sepeti düşünelim. Bunlara sırayla k adet top ekleme veya çıkarma yapılıyor. k değeri her adımda [1, 2, 3] değerlerinden rastgele birini alıyor. Her adımda ekleme veya çıkarma yapılacağına da rastgele karar veriliyor. Sepetlerden birinde 5 veya daha fazla top biriktiğinde program sonlanıyor. "
   ]
  },
  {
   "cell_type": "code",
   "execution_count": null,
   "id": "3e35ab5f",
   "metadata": {},
   "outputs": [],
   "source": [
    "import random\n",
    "\n",
    "sepet1 = 0\n",
    "sepet2 = 0\n",
    "sepet3 = 0\n",
    "\n",
    "while True:\n",
    "    k = random.choice([1, 2, 3])  # k adet top ekleme veya çıkarma\n",
    "    ekleme = random.choice([True, False])  # Ekleme veya çıkarma işlemi\n",
    "\n",
    "    if ekleme==True:\n",
    "        if k == 1:\n",
    "            sepet1 += 1\n",
    "        elif k == 2:\n",
    "            sepet2 += 1\n",
    "        elif k == 3:\n",
    "            sepet3 += 1\n",
    "    else:\n",
    "        if k == 1:\n",
    "            sepet1 -= 1\n",
    "        elif k == 2:\n",
    "            sepet2 -= 1\n",
    "        elif k == 3:\n",
    "            sepet3 -= 1\n",
    "\n",
    "    print(\"Sepet 1:\", sepet1)\n",
    "    print(\"Sepet 2:\", sepet2)\n",
    "    print(\"Sepet 3:\", sepet3)\n",
    "    print(\"-------------------\")\n",
    "\n",
    "    if sepet1 >= 5 or sepet2 >= 5 or sepet3 >= 5:\n",
    "        print(\"Program sonlandı!\")\n",
    "        break"
   ]
  },
  {
   "cell_type": "code",
   "execution_count": null,
   "id": "5b02fa0a",
   "metadata": {},
   "outputs": [],
   "source": [
    "#Kompleks sayılar a+ib şeklinde gösterilirler. a ve b reel sayılardır. i= -i şeklinde tanımlanan bir \n",
    "#sayıdır. Buna göre Kompleks sayıları tanımlayan bir veri tipi tanımlayınız\n",
    "\n",
    "z = complex(3, 4)\n",
    "print(z)"
   ]
  },
  {
   "cell_type": "code",
   "execution_count": null,
   "id": "b76588b0",
   "metadata": {},
   "outputs": [],
   "source": [
    "#A dizisi reel sayılar içeren bir dizidir ve n tane elemanı vardır. Buna göre bu dizinin aritmetik \n",
    "#ortalamasını hesaplayan bir özyinelemeli (recursive) fonksiyon tanımlayınız. A dizisi bu fonksiyona \n",
    "#parametre olarak gönderilecektir\n",
    "def ort(A):\n",
    "    if len(A) == 0:\n",
    "        return 0  \n",
    "    elif len(A) == 1:\n",
    "        return A[0]  \n",
    "    else:\n",
    "        return ( ort(A[0:])) / len(A)\n",
    "\n",
    "A = [1, 2, 3, 4]\n",
    "print(ort(A))"
   ]
  },
  {
   "cell_type": "code",
   "execution_count": null,
   "id": "e06ece2e",
   "metadata": {},
   "outputs": [],
   "source": [
    "RAKAM = []\n",
    "ALFABE = []\n",
    "DIGER = []\n",
    "\n",
    "while True:\n",
    "    karakter = input(\"Bir karakter girin (Programı sonlandırmak için Ç veya ç tuşuna basın): \")\n",
    "\n",
    "    if karakter == 'Ç' or karakter == 'ç':\n",
    "        print(\"Program sonlandırılıyor...\")\n",
    "        break\n",
    "\n",
    "    if karakter >= '0' and karakter <= '9':\n",
    "        RAKAM.append(karakter)\n",
    "    elif (karakter >= 'a' and karakter <= 'z') or (karakter >= 'A' and karakter <= 'Z'):\n",
    "        ALFABE.append(karakter)\n",
    "    else:\n",
    "        DIGER.append(karakter)\n",
    "\n",
    "print(\"RAKAM dizisi:\", RAKAM)\n",
    "print(\"ALFABE dizisi:\", ALFABE)\n",
    "print(\"DIGER dizisi:\", DIGER)"
   ]
  },
  {
   "cell_type": "markdown",
   "id": "fcd86ff5",
   "metadata": {},
   "source": [
    "dizisinin içinde sayılar olduğunu kabul ederek, bu dizi içerisinde en büyük sayıyı bulan \n",
    "programı yazınız."
   ]
  },
  {
   "cell_type": "code",
   "execution_count": null,
   "id": "dd95176d",
   "metadata": {},
   "outputs": [],
   "source": [
    "Dizi=[5,1,9,7,11,4,3,2]\n",
    "maxi=Dizi[0]\n",
    "for i in range(len(Dizi)):\n",
    "    if maxi<Dizi[i]:\n",
    "        maxi,Dizi[i]=Dizi[i],maxi\n",
    "print(maxi)           "
   ]
  },
  {
   "cell_type": "markdown",
   "id": "905c2eaa",
   "metadata": {},
   "source": [
    "Kullanıcı klavyeden 10 tane sayı giriyor ve kullanıcının girmiş olduğu sayılar 0 ile 1000 arasındadır. \n",
    "Girilen her sayı 100’ e bölününce bölümü kadar yıldız ekrana yazılacaktır. Eğer kalan kısmı sıfırdan farklı \n",
    "ise, bir yıldız da kalan kısmı için ekrana yazılacaktır. Örneğin sayılar sırasıyla 100, 156, 540, 390, 910, 6, 0, \n",
    "101, 399, 701 sayıları ekrana"
   ]
  },
  {
   "cell_type": "code",
   "execution_count": null,
   "id": "653c1169",
   "metadata": {},
   "outputs": [],
   "source": [
    "for _ in range(10):\n",
    "    sayı = int(input(\"Sayı girin: \"))\n",
    "    bölüm = sayı // 100\n",
    "    kalan = sayı % 100\n",
    "    for _ in range(bölüm):\n",
    "        print(\"*\", end='')\n",
    "    if kalan != 0:\n",
    "        print(\"*\", end='')\n",
    "    print()\n",
    "    "
   ]
  },
  {
   "cell_type": "markdown",
   "id": "474d428d",
   "metadata": {},
   "source": [
    " Kullanıcı klavyeden rastgele karakterler girmektedir. Kullanıcının girmiş olduğu sayıları bir diziye \n",
    "atan ve kullanıcı ‘A’ karakterini girince klavyeden karakter okumayı bırakan ve kullanıcının girmiş olduğu \n",
    "karakterleri tersten ekrana yazan bir özyinelemeli fonksiyon yazınız"
   ]
  },
  {
   "cell_type": "code",
   "execution_count": null,
   "id": "24b7e257",
   "metadata": {},
   "outputs": [],
   "source": [
    "def tersten_yaz():\n",
    "    karakter = input(\"Bir karakter girin: \")\n",
    "    \n",
    "    if karakter == 'A':\n",
    "        return\n",
    "    \n",
    "    tersten_yaz()\n",
    "    print(karakter, end='')\n",
    "\n",
    "tersten_yaz()\n",
    "\n",
    "# özyineleme her şeyde tersten başlar bunu unutma !\n",
    "    \n",
    "        \n"
   ]
  },
  {
   "cell_type": "code",
   "execution_count": null,
   "id": "cf23897f",
   "metadata": {},
   "outputs": [],
   "source": [
    "\n",
    "\n"
   ]
  },
  {
   "cell_type": "code",
   "execution_count": null,
   "id": "1b7cd2b2",
   "metadata": {},
   "outputs": [],
   "source": []
  },
  {
   "cell_type": "code",
   "execution_count": null,
   "id": "91664168",
   "metadata": {},
   "outputs": [],
   "source": []
  },
  {
   "cell_type": "code",
   "execution_count": null,
   "id": "252b5041",
   "metadata": {},
   "outputs": [],
   "source": []
  }
 ],
 "metadata": {
  "kernelspec": {
   "display_name": "Python 3 (ipykernel)",
   "language": "python",
   "name": "python3"
  },
  "language_info": {
   "codemirror_mode": {
    "name": "ipython",
    "version": 3
   },
   "file_extension": ".py",
   "mimetype": "text/x-python",
   "name": "python",
   "nbconvert_exporter": "python",
   "pygments_lexer": "ipython3",
   "version": "3.9.12"
  }
 },
 "nbformat": 4,
 "nbformat_minor": 5
}

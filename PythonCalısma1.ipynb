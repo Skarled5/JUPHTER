{
 "cells": [
  {
   "cell_type": "code",
   "execution_count": 1,
   "id": "bdd218b4",
   "metadata": {},
   "outputs": [
    {
     "name": "stdout",
     "output_type": "stream",
     "text": [
      "[2, 8, 6, 3, 10, 9, 1, 7, 4, 5]\n"
     ]
    }
   ],
   "source": [
    "import random\n",
    "\n",
    "liste = [1, 2, 3, 4, 5, 6, 7, 8, 9, 10]\n",
    "\n",
    "random.shuffle(liste) # Bir dizi içindeki elemanları rastgele sıralamak istiyorsak shuffle() komutunu kullanırız\n",
    "print(liste)"
   ]
  },
  {
   "cell_type": "code",
   "execution_count": 2,
   "id": "5c4f6e17",
   "metadata": {},
   "outputs": [
    {
     "name": "stdout",
     "output_type": "stream",
     "text": [
      "[1, 2, 3, 6, 7, 8]\n"
     ]
    }
   ],
   "source": [
    "liste1 = [1, 2, 3, 4, 5]\n",
    "liste2 = [4, 5, 6, 7, 8]\n",
    "\n",
    "fark = []\n",
    "\n",
    "for eleman in liste1:\n",
    "    if eleman not in liste2:\n",
    "        fark.append(eleman)\n",
    "\n",
    "for eleman in liste2:\n",
    "    if eleman not in liste1:\n",
    "        fark.append(eleman)\n",
    "print(fark)\n",
    "\n",
    "# bu soruda farklı elamanları bulduk"
   ]
  },
  {
   "cell_type": "code",
   "execution_count": 3,
   "id": "f2e388a4",
   "metadata": {},
   "outputs": [
    {
     "name": "stdout",
     "output_type": "stream",
     "text": [
      "1234\n"
     ]
    }
   ],
   "source": [
    "# Bir stringi nasıl sayıya dönüştürebilirsiniz?\n",
    "sayi_str = \"1234\"\n",
    "sayi_int = int(sayi_str)\n",
    "print(sayi_int)"
   ]
  },
  {
   "cell_type": "code",
   "execution_count": 4,
   "id": "2cdc7357",
   "metadata": {},
   "outputs": [
    {
     "name": "stdout",
     "output_type": "stream",
     "text": [
      "Bu bir örnek cümle İçinde noktalama işaretleri var\n"
     ]
    }
   ],
   "source": [
    "S = \"Bu, bir örnek cümle! İçinde noktalama işaretleri var.\"\n",
    "\n",
    "# Noktalama işaretlerini kaldırmak için temel Python işlevlerini kullanabiliriz\n",
    "punctuation = '''!()-[]{};:'\"\\,<>./?@#$%^&*_~'''\n",
    "YS = ''\n",
    "for karakter in S:\n",
    "    if karakter not in punctuation:\n",
    "        YS += karakter # string bir ifadeyi += bu şekilde stringiçine atabiliyormuşuz\n",
    "\n",
    "print(YS)"
   ]
  },
  {
   "cell_type": "code",
   "execution_count": null,
   "id": "6722de67",
   "metadata": {},
   "outputs": [],
   "source": [
    "KelimeListe = []\n",
    "kelime = \"\"\n",
    "for karakter in YS:\n",
    "    if karakter == \" \":\n",
    "        if kelime:\n",
    "            KelimeListe.append(kelime)\n",
    "            kelime = \"\"\n",
    "    else:\n",
    "        kelime += karakter\n",
    "\n",
    "\n",
    "\n",
    "KelimeListe = list(set(KelimeListe))\n",
    "\n",
    "print(KelimeListe)"
   ]
  },
  {
   "cell_type": "code",
   "execution_count": null,
   "id": "907e3961",
   "metadata": {},
   "outputs": [],
   "source": [
    "#Kullanıcı sürekli olarak klavyeden tuşlara basmaktadır. Yazacağınız program harfleri HARFLER dizisine \n",
    "#ve rakamları RAKAMLAR dizisine aktaracaktır. Bunların dışındaki karakterler dikkate alınmayacaktır. \n",
    "#Programınız ESC tuşuna basılınca klavyeden okuma işlemini bitirecektir.\n",
    "\n",
    "metin=input(\"metni girin:\")\n",
    "güncelMetin=metin.lower()\n",
    "rakam=[0,1,2,3,4,5,6,7,8,9]\n",
    "harf=['a', 'b', 'c', 'd', 'e', 'f', 'g', 'h', 'i', 'j', 'k', 'l', 'm', 'n', 'o', 'p', 'q', 'r', 's', 't', 'u', 'v', 'w', 'x', 'y', 'z']\n",
    "harflerDizisi=[]\n",
    "rakamDizisi=[]\n",
    "for karekter in range(len(güncelMetin)-1):\n",
    "    if karekter in harf:\n",
    "        harf.append(karekter)\n",
    "    elif karekter in rakam:\n",
    "        rakam.append(karekter)\n",
    "        \n",
    "\n",
    "print(\"Harfler:\", harflerDizisi)\n",
    "print(\"Rakamlar:\", rakamDizisi)\n",
    "        \n",
    "        "
   ]
  },
  {
   "cell_type": "code",
   "execution_count": null,
   "id": "4ef79a67",
   "metadata": {},
   "outputs": [],
   "source": [
    "#Kullanıcının klavyeden girdiği rakamları ayrı-ayrı olarak okuduktan sonra bu rakamları onluk tabanda bir \n",
    "#sayı durumuna getiren programı yazınız. Sonuç tekrar ekrana yazılacaktır. Örnek; kullanıcı klavyeden sırası \n",
    "#ile ‘9’, ‘7’, 0’ ve ‘5’ rakamlarını girmiş olsun. Programınız bu rakamları 9705 şeklinde bir sayıya \n",
    "#dönüştürecektir\n",
    "\n",
    "def sayı(rakam,rakam1,rakam2):\n",
    "    return str(rakam)+str(rakam1)+str(rakam2)\n",
    "sayı(1,2,3)\n"
   ]
  },
  {
   "cell_type": "code",
   "execution_count": null,
   "id": "0ff60467",
   "metadata": {},
   "outputs": [],
   "source": [
    "def calculate_total_cell_count(n):\n",
    "    for _ in range(10):\n",
    "        n = (n * 2) - (n * 0.2)\n",
    "    return n\n",
    "\n",
    "# Hücre sayısını kullanıcıdan alınması\n",
    "n = int(input(\"Birincil hücre sayısını girin: \"))\n",
    "\n",
    "# 10 dakika sonraki toplam hücre sayısını hesapla\n",
    "total_cell_count = calculate_total_cell_count(n)\n",
    "\n",
    "print(\"10 dakika sonraki toplam hücre sayısı:\", total_cell_count)"
   ]
  },
  {
   "cell_type": "code",
   "execution_count": null,
   "id": "7cfbdfbb",
   "metadata": {},
   "outputs": [],
   "source": [
    "def minimum(a, b, c):\n",
    "    if a < b and a < c:\n",
    "        return a\n",
    "    elif b < c:\n",
    "        return b\n",
    "    else:\n",
    "        return c\n",
    "    \n",
    "minimum(4,8,12)"
   ]
  },
  {
   "cell_type": "code",
   "execution_count": null,
   "id": "a8cc3d93",
   "metadata": {},
   "outputs": [],
   "source": [
    "class Ucgen:\n",
    "    def __init__(self, kenar1, kenar2, kenar3):\n",
    "        self.kenar1 = kenar1\n",
    "        self.kenar2 = kenar2\n",
    "        self.kenar3 = kenar3\n",
    "\n",
    "ucgen_dizisi = []\n",
    "for i in range(1000):\n",
    "    kenar1 = int(input(\"Üçgenin birinci kenarını girin: \"))\n",
    "    kenar2 = int(input(\"Üçgenin ikinci kenarını girin: \"))\n",
    "    kenar3 = int(input(\"Üçgenin üçüncü kenarını girin: \"))\n",
    "    ucgen = Ucgen(kenar1, kenar2, kenar3)\n",
    "    ucgen_dizisi.append(ucgen)\n",
    "    \n",
    "def hesapla_cevre(ucgen_dizisi):\n",
    "    cevre_dizisi = []\n",
    "    for ucgen in ucgen_dizisi:\n",
    "        cevre = ucgen.kenar1 + ucgen.kenar2 + ucgen.kenar3\n",
    "        cevre_dizisi.append(cevre)\n",
    "    return cevre_dizisi"
   ]
  },
  {
   "cell_type": "code",
   "execution_count": null,
   "id": "9a57e093",
   "metadata": {},
   "outputs": [],
   "source": [
    "def main():\n",
    "    for j in range(10):\n",
    "        for i in range(j):\n",
    "            print(\"*\", end=\"\")\n",
    "        print()\n",
    "\n",
    "main()"
   ]
  },
  {
   "cell_type": "code",
   "execution_count": null,
   "id": "f712fe24",
   "metadata": {},
   "outputs": [],
   "source": [
    "def main():\n",
    "    A = []\n",
    "    for i in range(10):\n",
    "        num = int(input(\"Sayıyı girin: \"))\n",
    "        A.append(num)\n",
    "    \n",
    "    min_num = A[0]  # İlk elemanı başlangıçta en küçük olarak kabul ediyoruz\n",
    "    \n",
    "    for i in range(1, len(A)):\n",
    "        if A[i] < min_num:\n",
    "            min_num = A[i]\n",
    "    \n",
    "    print(\"En küçük sayı:\", min_num)\n",
    "\n",
    "main()"
   ]
  },
  {
   "cell_type": "code",
   "execution_count": null,
   "id": "0f4e3fa5",
   "metadata": {},
   "outputs": [],
   "source": []
  }
 ],
 "metadata": {
  "kernelspec": {
   "display_name": "Python 3 (ipykernel)",
   "language": "python",
   "name": "python3"
  },
  "language_info": {
   "codemirror_mode": {
    "name": "ipython",
    "version": 3
   },
   "file_extension": ".py",
   "mimetype": "text/x-python",
   "name": "python",
   "nbconvert_exporter": "python",
   "pygments_lexer": "ipython3",
   "version": "3.9.12"
  }
 },
 "nbformat": 4,
 "nbformat_minor": 5
}

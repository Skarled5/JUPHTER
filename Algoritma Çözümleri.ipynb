{
 "cells": [
  {
   "cell_type": "code",
   "execution_count": 4,
   "id": "53f9c6a9",
   "metadata": {},
   "outputs": [],
   "source": [
    "# Kullanıcının girdiği bir metindeki kelime sayısını bulan bir program yazın."
   ]
  },
  {
   "cell_type": "code",
   "execution_count": 1,
   "id": "a9638733",
   "metadata": {},
   "outputs": [
    {
     "name": "stdout",
     "output_type": "stream",
     "text": [
      "metini girin:hakan,ve,ben\n",
      "3\n"
     ]
    }
   ],
   "source": [
    "metin = input(\"metini girin:\").split(\",\")\n",
    "c=0\n",
    "for i in metin:\n",
    "    c+=1\n",
    "print(c)\n",
    "    \n"
   ]
  },
  {
   "cell_type": "code",
   "execution_count": 3,
   "id": "a9af0236",
   "metadata": {},
   "outputs": [],
   "source": [
    "# Kullanıcının girdiği bir metindeki en sık kullanılan kelimeyi bulan bir program yazın."
   ]
  },
  {
   "cell_type": "code",
   "execution_count": 4,
   "id": "36d0b4f1",
   "metadata": {},
   "outputs": [
    {
     "name": "stdout",
     "output_type": "stream",
     "text": [
      "Metni girin: hakan abe ve ben\n"
     ]
    }
   ],
   "source": [
    "metin = input(\"Metni girin: \")\n",
    "\n",
    "# Metindeki özel karakterleri ve noktalama işaretlerini kaldırın\n",
    "for karakter in metin:\n",
    "    if not karakter.isalpha() and not karakter.isspace():\n",
    "        metin = metin.replace(karakter, \"\")\n",
    "\n",
    "# Tüm harfleri küçük harfe dönüştürün\n",
    "metin = metin.lower()\n",
    "\n",
    "# Metni kelimelere ayırın\n",
    "kelimeler = metin.split()\n",
    "\n",
    "# Kelimelerin sayısını tutmak için bir sözlük oluşturun\n",
    "kelime_sayisi = {}\n",
    "\n",
    "# Kelimelerin sayısını sayın\n",
    "for kelime in kelimeler:\n",
    "    if kelime in kelime_sayisi:\n",
    "        kelime_sayisi[kelime] += 1\n",
    "    else:\n",
    "        kelime_sayisi[kelime] = 1\n",
    "\n",
    "# En sık kullanılan kelimeyi bulun\n",
    "en_sik_kelime = \"\"\n",
    "en_sik_kelime_sayisi = 0\n",
    "\n",
    "for kelime, sayi in kelime_sayisi.items():\n",
    "    if sayi > en_sik_kelime_sayisi:\n",
    "        en_sik_kelime = kelime\n",
    "        en_sik_kelime_sayisi = sayi"
   ]
  },
  {
   "cell_type": "code",
   "execution_count": 5,
   "id": "418f33bd",
   "metadata": {},
   "outputs": [],
   "source": [
    "# 1'den 100'e kadar olan sayıların toplamını bulan bir program yazın."
   ]
  },
  {
   "cell_type": "code",
   "execution_count": 7,
   "id": "600df0c4",
   "metadata": {},
   "outputs": [
    {
     "name": "stdout",
     "output_type": "stream",
     "text": [
      "5050\n"
     ]
    }
   ],
   "source": [
    "toplam=0\n",
    "for i in range(1,101,1):\n",
    "    toplam+=i\n",
    "print(toplam)\n",
    "    "
   ]
  },
  {
   "cell_type": "code",
   "execution_count": 8,
   "id": "8258c2ba",
   "metadata": {},
   "outputs": [],
   "source": [
    "# Bir matrisin transpozunu hesaplayan bir program yazın."
   ]
  },
  {
   "cell_type": "code",
   "execution_count": 23,
   "id": "dee1bdd7",
   "metadata": {},
   "outputs": [
    {
     "name": "stdout",
     "output_type": "stream",
     "text": [
      "[1, 4, 7]\n",
      "[2, 5, 8]\n",
      "[3, 6, 9]\n"
     ]
    }
   ],
   "source": [
    "matrix = [[1, 2, 3], [4, 5, 6], [7, 8, 9]]\n",
    "transpose = []\n",
    "for i in range(len(matrix[0])):\n",
    "    row = []\n",
    "    for j in range(len(matrix)):\n",
    "        row.append(matrix[j][i])\n",
    "    transpose.append(row)\n",
    "\n",
    "for row in transpose:\n",
    "    print(row)"
   ]
  },
  {
   "cell_type": "code",
   "execution_count": 24,
   "id": "f263e98a",
   "metadata": {},
   "outputs": [
    {
     "data": {
      "text/plain": [
       "3"
      ]
     },
     "execution_count": 24,
     "metadata": {},
     "output_type": "execute_result"
    }
   ],
   "source": [
    "len(matrix)"
   ]
  },
  {
   "cell_type": "code",
   "execution_count": 25,
   "id": "8bb92fa2",
   "metadata": {},
   "outputs": [],
   "source": [
    "# Kullanıcının girdiği bir metindeki sesli harf sayısını bulan bir program yazın."
   ]
  },
  {
   "cell_type": "code",
   "execution_count": 29,
   "id": "8f26ef36",
   "metadata": {},
   "outputs": [
    {
     "name": "stdout",
     "output_type": "stream",
     "text": [
      "metin giriniz:ben ve sen\n",
      "Metindeki toplam sesli harf sayısı: 3\n"
     ]
    }
   ],
   "source": [
    "sesli = [\"a\",\"e\",\"i\",\"ı\",\"u\",\"ü\",\"o\",\"ö\"]\n",
    "metin = input(\"metin giriniz:\")\n",
    "sayı=0\n",
    "for i in metin:\n",
    "    for j in sesli:\n",
    "        if i==j:\n",
    "            sayı+=1\n",
    "print(\"Metindeki toplam sesli harf sayısı:\", sayı)\n",
    "            "
   ]
  },
  {
   "cell_type": "code",
   "execution_count": 30,
   "id": "34959c2c",
   "metadata": {},
   "outputs": [],
   "source": [
    "# Bir listedeki en büyük sayıyı bulan bir program yazın."
   ]
  },
  {
   "cell_type": "code",
   "execution_count": 34,
   "id": "260964dd",
   "metadata": {},
   "outputs": [
    {
     "name": "stdout",
     "output_type": "stream",
     "text": [
      "Listedeki en büyük sayı: 30\n"
     ]
    }
   ],
   "source": [
    "liste = [10, 5, 20, 25, 15, 30]\n",
    "\n",
    "en_buyuk = liste[0]\n",
    "for sayi in liste:\n",
    "    if sayi > en_buyuk:\n",
    "        en_buyuk = sayi\n",
    "\n",
    "print(\"Listedeki en büyük sayı:\", en_buyuk)\n",
    "        \n",
    "            \n",
    "            \n",
    "            "
   ]
  },
  {
   "cell_type": "code",
   "execution_count": 35,
   "id": "c68e9a49",
   "metadata": {},
   "outputs": [],
   "source": [
    "# Kullanıcının girdiği bir metindeki kelime uzunluklarının ortalamasını bulan bir program yazın."
   ]
  },
  {
   "cell_type": "code",
   "execution_count": 22,
   "id": "485f37f8",
   "metadata": {},
   "outputs": [
    {
     "name": "stdout",
     "output_type": "stream",
     "text": [
      "Metni girin: hakan ben\n",
      "4.0\n"
     ]
    }
   ],
   "source": [
    "metin = input(\"Metni girin: \")\n",
    " \n",
    "harfSayisi = 0\n",
    "kelimeSayisi = 0\n",
    "boslukSayisi = 0\n",
    "\n",
    "for karakter in metin:\n",
    "    harfSayisi += 1\n",
    "    if karakter == \" \":\n",
    "        boslukSayisi += 1\n",
    "        \n",
    "kelimeler = metin.split()\n",
    "\n",
    "kelimeSayisi = len(kelimeler)\n",
    "\n",
    "ort = (harfSayisi - boslukSayisi) / kelimeSayisi\n",
    "print(ort)"
   ]
  },
  {
   "cell_type": "code",
   "execution_count": 23,
   "id": "9e330b9e",
   "metadata": {},
   "outputs": [],
   "source": [
    "# Kullanıcının girdiği bir sayının tam kare olup olmadığını kontrol eden bir program yazın."
   ]
  },
  {
   "cell_type": "code",
   "execution_count": 29,
   "id": "bb19df8f",
   "metadata": {},
   "outputs": [
    {
     "name": "stdout",
     "output_type": "stream",
     "text": [
      "sayı gir:5\n",
      "tam kare değil\n",
      "tam kare değil\n",
      "tam kare değil\n",
      "tam kare değil\n",
      "sayı tam kare\n"
     ]
    }
   ],
   "source": [
    "sayım= int(input(\"sayı gir:\"))\n",
    "for i in range(1,sayım+1):\n",
    "    if i*i==sayım**2:\n",
    "        print(\"sayı tam kare\")\n",
    "    else:\n",
    "        print(\"tam kare değil\")"
   ]
  },
  {
   "cell_type": "code",
   "execution_count": 1,
   "id": "6e8232c4",
   "metadata": {},
   "outputs": [],
   "source": [
    "# Kullanıcının girdiği bir kelimenin tersini bulan bir program yazın."
   ]
  },
  {
   "cell_type": "code",
   "execution_count": 4,
   "id": "9f670b75",
   "metadata": {},
   "outputs": [
    {
     "name": "stdout",
     "output_type": "stream",
     "text": [
      "Kelime girin: hakan\n",
      "Kelimenin tersi: nakah\n"
     ]
    }
   ],
   "source": [
    "kelime = input(\"Kelime girin: \")\n",
    "\n",
    "kelime_ters = kelime[::-1]\n",
    "\n",
    "print(\"Kelimenin tersi:\", kelime_ters)"
   ]
  },
  {
   "cell_type": "code",
   "execution_count": null,
   "id": "cc04968f",
   "metadata": {},
   "outputs": [],
   "source": []
  }
 ],
 "metadata": {
  "kernelspec": {
   "display_name": "Python 3 (ipykernel)",
   "language": "python",
   "name": "python3"
  },
  "language_info": {
   "codemirror_mode": {
    "name": "ipython",
    "version": 3
   },
   "file_extension": ".py",
   "mimetype": "text/x-python",
   "name": "python",
   "nbconvert_exporter": "python",
   "pygments_lexer": "ipython3",
   "version": "3.9.12"
  }
 },
 "nbformat": 4,
 "nbformat_minor": 5
}
